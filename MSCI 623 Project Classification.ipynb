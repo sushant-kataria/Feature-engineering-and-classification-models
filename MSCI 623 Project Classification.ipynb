{
  "nbformat": 4,
  "nbformat_minor": 0,
  "metadata": {
    "colab": {
      "name": "Final 623 project.ipynb",
      "version": "0.3.2",
      "provenance": [],
      "collapsed_sections": [],
      "machine_shape": "hm"
    },
    "language_info": {
      "codemirror_mode": {
        "name": "ipython",
        "version": 3
      },
      "file_extension": ".py",
      "mimetype": "text/x-python",
      "name": "python",
      "nbconvert_exporter": "python",
      "pygments_lexer": "ipython3",
      "version": "3.7.3"
    },
    "kernelspec": {
      "name": "python3",
      "display_name": "Python 3"
    },
    "accelerator": "TPU"
  },
  "cells": [
    {
      "cell_type": "code",
      "metadata": {
        "id": "UTnyqiC_KQPD",
        "colab_type": "code",
        "colab": {}
      },
      "source": [
        "import pandas as pd\n",
        "from google.colab import files \n",
        "\n"
      ],
      "execution_count": 0,
      "outputs": []
    },
    {
      "cell_type": "code",
      "metadata": {
        "id": "ZEmSpLd34o4F",
        "colab_type": "code",
        "colab": {}
      },
      "source": [
        "import matplotlib.pyplot as plt\n",
        "import numpy as np\n",
        "\n",
        "import seaborn as sns\n",
        "sns.set()\n",
        "%matplotlib inline"
      ],
      "execution_count": 0,
      "outputs": []
    },
    {
      "cell_type": "code",
      "metadata": {
        "id": "iEAOFN8OevIV",
        "colab_type": "code",
        "colab": {}
      },
      "source": [
        "downloaded = drive.CreateFile({'id':id}) \n",
        "downloaded.GetContentFile('opendata_tess_ow.csv')  \n",
        "org= pd.read_csv('opendata_tess_ow.csv')"
      ],
      "execution_count": 0,
      "outputs": []
    },
    {
      "cell_type": "code",
      "metadata": {
        "id": "4HnaR_hOx8PN",
        "colab_type": "code",
        "colab": {}
      },
      "source": [
        "#copying data into new dataframe\n",
        "h = org.copy()\n",
        "\n"
      ],
      "execution_count": 0,
      "outputs": []
    },
    {
      "cell_type": "markdown",
      "metadata": {
        "id": "UeVmxw0E4tNS",
        "colab_type": "text"
      },
      "source": [
        "# **Exploratory** **data analysis and data manipulation**"
      ]
    },
    {
      "cell_type": "code",
      "metadata": {
        "id": "jpHl9Imd9djg",
        "colab_type": "code",
        "outputId": "40b098f1-d20a-4d41-e9f5-e8ced4fda47f",
        "colab": {
          "base_uri": "https://localhost:8080/",
          "height": 399
        }
      },
      "source": [
        "#checking for null values\n",
        "h.isnull().sum()"
      ],
      "execution_count": 0,
      "outputs": [
        {
          "output_type": "execute_result",
          "data": {
            "text/plain": [
              "YEAR_NUM                                           0\n",
              "MNTH                                               0\n",
              "PROGRAM_NM                                         0\n",
              "OFFICE                                             0\n",
              "FAMILY_TYP_NM                                      0\n",
              "FAMILY_SIZE                                        0\n",
              "AGE                                                0\n",
              "EDUCATION_LEVEL                                    0\n",
              "EARNINGS                                     8646885\n",
              "IMMIGRATION_STATUS                                 0\n",
              "TIMES_ON_ASSISTANCE                                0\n",
              "MONTHS_ON_ASSISTANCE                               0\n",
              "MONTHS_OFF_ASSISTANCE                              0\n",
              "GENDER                                             0\n",
              "SHELTER_COSTS                                      0\n",
              "YOUNGEST_DEP_AGE_RANGE                             0\n",
              "WARD_SCODE                                     43661\n",
              "CENSUS_NEIGH_SCODE                             43661\n",
              "NEW_CASES                                          0\n",
              "EXITS                                              0\n",
              "CASES                                              0\n",
              "dtype: int64"
            ]
          },
          "metadata": {
            "tags": []
          },
          "execution_count": 21
        }
      ]
    },
    {
      "cell_type": "code",
      "metadata": {
        "id": "h6lUlblGxihJ",
        "colab_type": "code",
        "outputId": "b4da6d30-2e43-445c-afb4-b1b755be7522",
        "colab": {
          "base_uri": "https://localhost:8080/",
          "height": 812
        }
      },
      "source": [
        "import missingno as msno\n",
        "msno.matrix(org)"
      ],
      "execution_count": 0,
      "outputs": [
        {
          "output_type": "execute_result",
          "data": {
            "text/plain": [
              "<matplotlib.axes._subplots.AxesSubplot at 0x7f7de4e94a90>"
            ]
          },
          "metadata": {
            "tags": []
          },
          "execution_count": 26
        },
        {
          "output_type": "display_data",
          "data": {
            "image/png": "[encoded data removed]",
            "text/plain": [
              "<Figure size 1800x720 with 2 Axes>"
            ]
          },
          "metadata": {
            "tags": []
          }
        }
      ]
    },
    {
      "cell_type": "code",
      "metadata": {
        "id": "X5W7hrqF6jvC",
        "colab_type": "code",
        "outputId": "89a081ca-5167-4cc9-f6bc-5f7fb23ac497",
        "colab": {
          "base_uri": "https://localhost:8080/",
          "height": 1560
        }
      },
      "source": [
        " # Using whole data to form an exhaustive list of levels\n",
        "for col in h.columns.values:\n",
        "    if h[col].dtypes=='object':\n",
        "           print(h[col].value_counts())"
      ],
      "execution_count": 0,
      "outputs": [
        {
          "output_type": "stream",
          "text": [
            "Ontario Works    9536341\n",
            "Name: PROGRAM_NM, dtype: int64\n",
            "Malvern Employment & Social Services               1022320\n",
            "Golden Mile Employment & Social Services            889935\n",
            "Lawrence Square Employment & Social Services        840558\n",
            "York Humber Employment & Social Services            802587\n",
            "Kennedy Employment & Social Services                794095\n",
            "The Queensway Employment & Social Services          737263\n",
            "Lesmill Employment & Social Services                588127\n",
            "Wellesley Place Employment & Social Services        567157\n",
            "Attwell Employment & Social Services                565759\n",
            "Yonge Eglinton Employment & Social Services         538875\n",
            "Chesswood Employment & Social Services              531464\n",
            "High Park Parkdale Employment & Social Services     506204\n",
            "Metro Hall Employment & Social Services             361545\n",
            "Consilium Employment & Social Services              347591\n",
            "Beaches Employment & Social Services                345256\n",
            "Application Centre                                   96487\n",
            "Client Special Services Unit                          1118\n",
            "Name: OFFICE, dtype: int64\n",
            "Singles     5632190\n",
            "Families    3904151\n",
            "Name: FAMILY_TYP_NM, dtype: int64\n",
            "1     5634777\n",
            "2     1615838\n",
            "3     1087254\n",
            "4      681368\n",
            "4+     516251\n",
            "1         853\n",
            "Name: FAMILY_SIZE, dtype: int64\n",
            "18 to 29 yrs old        2744338\n",
            "30 to 39 yrs old        2521644\n",
            "40 to 49 yrs old        2337545\n",
            "50 to 64 yrs old        1774680\n",
            "65+ yrs old               97844\n",
            "16 to 17 yrs old          58909\n",
            "Less than 16 yrs old       1381\n",
            "Name: AGE, dtype: int64\n",
            "High School Incomplete    3543830\n",
            "High School Complete      3156778\n",
            "Post Secondary            2674323\n",
            "Unknown                    161410\n",
            "Name: EDUCATION_LEVEL, dtype: int64\n",
            "Earnings from employment    889456\n",
            "Name: EARNINGS, dtype: int64\n",
            "Canadian Citizen                               6330192\n",
            "Permanent Resident                             2041096\n",
            "Refugee Claimant                               1151328\n",
            "Visitor/Tourist/TempResVisitor/Student Visa      11127\n",
            "Minister Permit                                   1940\n",
            "No Status                                          658\n",
            "Name: IMMIGRATION_STATUS, dtype: int64\n",
            "4+    4183624\n",
            "1     3019749\n",
            "2     1515389\n",
            "3      817579\n",
            "Name: TIMES_ON_ASSISTANCE, dtype: int64\n",
            "1 to 6 months       2460408\n",
            "13 to 24 months     1848266\n",
            "25 to 60 months     1812478\n",
            "7 to 12 months      1512383\n",
            "61 to 120 months    1501747\n",
            "over 120 months      401059\n",
            "Name: MONTHS_ON_ASSISTANCE, dtype: int64\n",
            "1 to 6 months       9292989\n",
            "7 to 24 months       122787\n",
            "25 to 48 months       60677\n",
            "49 to 120 months      53715\n",
            "over 120 months        6173\n",
            "Name: MONTHS_OFF_ASSISTANCE, dtype: int64\n",
            "F    5249517\n",
            "M    4286823\n",
            "U          1\n",
            "Name: GENDER, dtype: int64\n",
            "$200 to $399        2619733\n",
            "$400 to $599        2604016\n",
            "$600 to $999        2134576\n",
            "No shelter costs     854904\n",
            "Under $200           632973\n",
            "$1000 to $1399       609404\n",
            "$1400 to $1799        60214\n",
            "over $1800            20521\n",
            "Name: SHELTER_COSTS, dtype: int64\n",
            "No children            5708723\n",
            "less than 5 yrs old    1699746\n",
            "5 to 10 yrs old        1065298\n",
            "11 to 15 yrs old        616427\n",
            "16+ yrs old             446147\n",
            "Name: YOUNGEST_DEP_AGE_RANGE, dtype: int64\n"
          ],
          "name": "stdout"
        }
      ]
    },
    {
      "cell_type": "markdown",
      "metadata": {
        "id": "43mlZgVd8LL4",
        "colab_type": "text"
      },
      "source": [
        "* FAMILY_SIZE - there are two classes with same family size=1. It will be combined into one. \n",
        "\n",
        "* PROGRAM_NM -  Program name has only one class value(Ontario works). We wont include this in our analysis.\n",
        "\n",
        "* YEAR_NUM, MNTH - Our analysis is not time based but instead focusses on the aggregated data of last ten years. Hence, these columns would be dropped.\n",
        "\n",
        "* EDUCATION_LEVEL - it has a UNKNOWN class with count = 161410. The education level column will be dropped.\n",
        "\n",
        "* EARNINGS, WARD_SCODE, CENSUS_NEIGH_SCODE have lots of NULL VALUES. These columns will be dropped.\n",
        "\n",
        "\n"
      ]
    },
    {
      "cell_type": "code",
      "metadata": {
        "id": "CC0i1mEH4nfC",
        "colab_type": "code",
        "outputId": "2c67d135-a4c5-4456-8e14-c2f355a89998",
        "colab": {
          "base_uri": "https://localhost:8080/",
          "height": 35
        }
      },
      "source": [
        "h['FAMILY_SIZE'] = np.where(h['FAMILY_SIZE'] =='4+',h['FAMILY_SIZE'],\n",
        "                            np.where(h['FAMILY_SIZE'] =='4',h['FAMILY_SIZE'],\n",
        "                                     np.where(h['FAMILY_SIZE'] =='3',h['FAMILY_SIZE'],\n",
        "                                              np.where(h['FAMILY_SIZE'] =='2',h['FAMILY_SIZE'],'1'))))\n",
        "\n",
        "h.rename(columns = {'OFF':'OFFICE','CASES                                    ':'CASES'}, inplace = True)\n",
        "\n",
        "\n",
        "\n",
        "\n",
        "h.drop([\"YEAR_NUM\",\"MNTH\",\"PROGRAM_NM\",\"EARNINGS\",\"WARD_SCODE\",\"CENSUS_NEIGH_SCODE\",\"EDUCATION_LEVEL\",\"FAMILY_TYP_NM\",],axis =1 , inplace =True)\n",
        "h_agg=h.groupby([ 'OFFICE',  'FAMILY_SIZE', 'AGE', 'IMMIGRATION_STATUS', 'TIMES_ON_ASSISTANCE','MONTHS_ON_ASSISTANCE', 'MONTHS_OFF_ASSISTANCE', 'GENDER',\n",
        "       'SHELTER_COSTS', 'YOUNGEST_DEP_AGE_RANGE'],as_index=False).sum()\n",
        "h=h_agg.copy()\n",
        "\n",
        "h.shape"
      ],
      "execution_count": 0,
      "outputs": [
        {
          "output_type": "execute_result",
          "data": {
            "text/plain": [
              "(326613, 13)"
            ]
          },
          "metadata": {
            "tags": []
          },
          "execution_count": 58
        }
      ]
    },
    {
      "cell_type": "markdown",
      "metadata": {
        "id": "d0SZISAMA4rZ",
        "colab_type": "text"
      },
      "source": [
        "Creating outcome variable = EXIT_BINARY \n",
        "There will be two classes. 0,1\n",
        "EXIT_BINARY represent whether a particular household has exited assistance program or not.\n",
        "\n",
        "We will drop EXITS,CASES and NEW_CASES, as these are not required for further analysis."
      ]
    },
    {
      "cell_type": "code",
      "metadata": {
        "id": "vKW9hQ22MeqH",
        "colab_type": "code",
        "colab": {}
      },
      "source": [
        "h['EXIT_BINARY']=np.where(h['EXITS']==0,0,1)\n",
        "h.drop([\"CASES\",\"NEW_CASES\"],axis=1,inplace=True)\n",
        "h.drop([\"EXITS\"],axis=1,inplace=True)"
      ],
      "execution_count": 0,
      "outputs": []
    },
    {
      "cell_type": "code",
      "metadata": {
        "id": "Km7VndOEX_qm",
        "colab_type": "code",
        "outputId": "167697a3-dcc8-498a-94ee-6b1a7f131b88",
        "colab": {
          "base_uri": "https://localhost:8080/",
          "height": 35
        }
      },
      "source": [
        "h.head(10)\n",
        "h.shape"
      ],
      "execution_count": 0,
      "outputs": [
        {
          "output_type": "execute_result",
          "data": {
            "text/plain": [
              "(9536341, 21)"
            ]
          },
          "metadata": {
            "tags": []
          },
          "execution_count": 47
        }
      ]
    },
    {
      "cell_type": "markdown",
      "metadata": {
        "id": "kegT-Iv9VWmi",
        "colab_type": "text"
      },
      "source": [
        "Separating features and labels\n"
      ]
    },
    {
      "cell_type": "code",
      "metadata": {
        "id": "bclgwbaBVhDe",
        "colab_type": "code",
        "outputId": "f66a7396-7726-4ce0-dbc4-c8edba9580c5",
        "colab": {
          "base_uri": "https://localhost:8080/",
          "height": 208
        }
      },
      "source": [
        "X = h.iloc[:,0:10]  \n",
        "y=h['EXIT_BINARY'].to_frame()\n",
        "X.head()\n",
        "y.head()\n",
        "X.dtypes\n"
      ],
      "execution_count": 0,
      "outputs": [
        {
          "output_type": "execute_result",
          "data": {
            "text/plain": [
              "OFFICE                    object\n",
              "FAMILY_SIZE               object\n",
              "AGE                       object\n",
              "IMMIGRATION_STATUS        object\n",
              "TIMES_ON_ASSISTANCE       object\n",
              "MONTHS_ON_ASSISTANCE      object\n",
              "MONTHS_OFF_ASSISTANCE     object\n",
              "GENDER                    object\n",
              "SHELTER_COSTS             object\n",
              "YOUNGEST_DEP_AGE_RANGE    object\n",
              "dtype: object"
            ]
          },
          "metadata": {
            "tags": []
          },
          "execution_count": 60
        }
      ]
    },
    {
      "cell_type": "markdown",
      "metadata": {
        "id": "IHdSbdH4q5AE",
        "colab_type": "text"
      },
      "source": [
        "We can see that the dataset has values in strings.We need to convert all the unique values to integers. Thus we perform label encoding on the data."
      ]
    },
    {
      "cell_type": "code",
      "metadata": {
        "id": "DuwTOGB5KI14",
        "colab_type": "code",
        "outputId": "b192836b-410a-4529-cf96-4b3b6428ddac",
        "colab": {
          "base_uri": "https://localhost:8080/",
          "height": 222
        }
      },
      "source": [
        "from sklearn.preprocessing import LabelEncoder\n",
        "labelencoder=LabelEncoder()\n",
        "for col in X.columns:\n",
        "    X[col] = labelencoder.fit_transform(X[col])\n",
        " \n",
        "X.head()"
      ],
      "execution_count": 0,
      "outputs": [
        {
          "output_type": "execute_result",
          "data": {
            "text/html": [
              "<div>\n",
              "<style scoped>\n",
              "    .dataframe tbody tr th:only-of-type {\n",
              "        vertical-align: middle;\n",
              "    }\n",
              "\n",
              "    .dataframe tbody tr th {\n",
              "        vertical-align: top;\n",
              "    }\n",
              "\n",
              "    .dataframe thead th {\n",
              "        text-align: right;\n",
              "    }\n",
              "</style>\n",
              "<table border=\"1\" class=\"dataframe\">\n",
              "  <thead>\n",
              "    <tr style=\"text-align: right;\">\n",
              "      <th></th>\n",
              "      <th>OFFICE</th>\n",
              "      <th>FAMILY_SIZE</th>\n",
              "      <th>AGE</th>\n",
              "      <th>IMMIGRATION_STATUS</th>\n",
              "      <th>TIMES_ON_ASSISTANCE</th>\n",
              "      <th>MONTHS_ON_ASSISTANCE</th>\n",
              "      <th>MONTHS_OFF_ASSISTANCE</th>\n",
              "      <th>GENDER</th>\n",
              "      <th>SHELTER_COSTS</th>\n",
              "      <th>YOUNGEST_DEP_AGE_RANGE</th>\n",
              "    </tr>\n",
              "  </thead>\n",
              "  <tbody>\n",
              "    <tr>\n",
              "      <th>0</th>\n",
              "      <td>0</td>\n",
              "      <td>0</td>\n",
              "      <td>0</td>\n",
              "      <td>0</td>\n",
              "      <td>0</td>\n",
              "      <td>0</td>\n",
              "      <td>0</td>\n",
              "      <td>0</td>\n",
              "      <td>2</td>\n",
              "      <td>3</td>\n",
              "    </tr>\n",
              "    <tr>\n",
              "      <th>1</th>\n",
              "      <td>0</td>\n",
              "      <td>0</td>\n",
              "      <td>0</td>\n",
              "      <td>0</td>\n",
              "      <td>0</td>\n",
              "      <td>0</td>\n",
              "      <td>0</td>\n",
              "      <td>0</td>\n",
              "      <td>3</td>\n",
              "      <td>3</td>\n",
              "    </tr>\n",
              "    <tr>\n",
              "      <th>2</th>\n",
              "      <td>0</td>\n",
              "      <td>0</td>\n",
              "      <td>0</td>\n",
              "      <td>0</td>\n",
              "      <td>0</td>\n",
              "      <td>0</td>\n",
              "      <td>0</td>\n",
              "      <td>0</td>\n",
              "      <td>4</td>\n",
              "      <td>3</td>\n",
              "    </tr>\n",
              "    <tr>\n",
              "      <th>3</th>\n",
              "      <td>0</td>\n",
              "      <td>0</td>\n",
              "      <td>0</td>\n",
              "      <td>0</td>\n",
              "      <td>0</td>\n",
              "      <td>0</td>\n",
              "      <td>0</td>\n",
              "      <td>0</td>\n",
              "      <td>5</td>\n",
              "      <td>3</td>\n",
              "    </tr>\n",
              "    <tr>\n",
              "      <th>4</th>\n",
              "      <td>0</td>\n",
              "      <td>0</td>\n",
              "      <td>0</td>\n",
              "      <td>0</td>\n",
              "      <td>0</td>\n",
              "      <td>0</td>\n",
              "      <td>0</td>\n",
              "      <td>1</td>\n",
              "      <td>2</td>\n",
              "      <td>3</td>\n",
              "    </tr>\n",
              "  </tbody>\n",
              "</table>\n",
              "</div>"
            ],
            "text/plain": [
              "   OFFICE  FAMILY_SIZE  AGE  ...  GENDER  SHELTER_COSTS  YOUNGEST_DEP_AGE_RANGE\n",
              "0       0            0    0  ...       0              2                       3\n",
              "1       0            0    0  ...       0              3                       3\n",
              "2       0            0    0  ...       0              4                       3\n",
              "3       0            0    0  ...       0              5                       3\n",
              "4       0            0    0  ...       1              2                       3\n",
              "\n",
              "[5 rows x 10 columns]"
            ]
          },
          "metadata": {
            "tags": []
          },
          "execution_count": 61
        }
      ]
    },
    {
      "cell_type": "markdown",
      "metadata": {
        "id": "MscO8yfjrKRk",
        "colab_type": "text"
      },
      "source": [
        "Checking for correlation among the variables."
      ]
    },
    {
      "cell_type": "code",
      "metadata": {
        "id": "ZXxwOev6rNP9",
        "colab_type": "code",
        "outputId": "2d169eb6-64ff-42d0-cd95-3b3f8bc96cd1",
        "colab": {
          "base_uri": "https://localhost:8080/",
          "height": 498
        }
      },
      "source": [
        "X.corr()\n",
        "Var_Corr = X.corr()\n",
        "plt.figure(figsize = (16,5))\n",
        "sns.heatmap(Var_Corr, xticklabels=Var_Corr.columns, yticklabels=Var_Corr.columns, annot=True)"
      ],
      "execution_count": 0,
      "outputs": [
        {
          "output_type": "execute_result",
          "data": {
            "text/plain": [
              "<matplotlib.axes._subplots.AxesSubplot at 0x7f60c8ef0f60>"
            ]
          },
          "metadata": {
            "tags": []
          },
          "execution_count": 62
        },
        {
          "output_type": "display_data",
          "data": {
            "image/png": "[encoded data removed]",
            "text/plain": [
              "<Figure size 1152x360 with 2 Axes>"
            ]
          },
          "metadata": {
            "tags": []
          }
        }
      ]
    },
    {
      "cell_type": "markdown",
      "metadata": {
        "id": "puIHWb91bZJo",
        "colab_type": "text"
      },
      "source": [
        "There is no multicollinearity observed among the variables. So we proceed with our data analysis and modelling."
      ]
    },
    {
      "cell_type": "markdown",
      "metadata": {
        "id": "-N2b8xBJs0bv",
        "colab_type": "text"
      },
      "source": [
        "**Scaling the data**\n",
        "\n",
        "We are scaling our data such that each feature has unit variance. This is necessary because fitting algorithms highly depend on the scaling of the features. We have used the StandardScalermodule for scaling the features individually. StandardScalersubtracts the mean from each features and then scale to unit variance."
      ]
    },
    {
      "cell_type": "code",
      "metadata": {
        "id": "NSFnTyqIzu6P",
        "colab_type": "code",
        "outputId": "1a738584-f127-47af-e1b7-c3e7b2e11877",
        "colab": {
          "base_uri": "https://localhost:8080/",
          "height": 243
        }
      },
      "source": [
        "from sklearn.preprocessing import StandardScaler\n",
        "scaler = StandardScaler()\n",
        "scaler.fit(X)\n",
        "X_scaled=scaler.transform(X)\n",
        "X_scaled\n"
      ],
      "execution_count": 0,
      "outputs": [
        {
          "output_type": "execute_result",
          "data": {
            "text/plain": [
              "array([[-1.81906293, -1.20743323, -2.2598119 , ..., -0.79113514,\n",
              "        -0.6648883 ,  0.49927627],\n",
              "       [-1.81906293, -1.20743323, -2.2598119 , ..., -0.79113514,\n",
              "        -0.12220925,  0.49927627],\n",
              "       [-1.81906293, -1.20743323, -2.2598119 , ..., -0.79113514,\n",
              "         0.4204698 ,  0.49927627],\n",
              "       ...,\n",
              "       [ 1.57666434,  1.79581581,  1.23903294, ...,  1.26397387,\n",
              "         0.4204698 , -1.7046917 ],\n",
              "       [ 1.57666434,  1.79581581,  1.23903294, ..., -0.79113514,\n",
              "        -0.6648883 , -1.7046917 ],\n",
              "       [ 1.57666434,  1.79581581,  2.11374415, ...,  1.26397387,\n",
              "        -0.6648883 ,  1.23393226]])"
            ]
          },
          "metadata": {
            "tags": []
          },
          "execution_count": 63
        }
      ]
    },
    {
      "cell_type": "markdown",
      "metadata": {
        "id": "mjkjF-UMbqrx",
        "colab_type": "text"
      },
      "source": [
        "So now we have a final dataset. In order to select the best features for classification, we would do PCA."
      ]
    },
    {
      "cell_type": "markdown",
      "metadata": {
        "id": "V7noe7Fa4RXG",
        "colab_type": "text"
      },
      "source": [
        "## **Principal component analysis**\n",
        "PCA is essentially a method that reduces the dimension of the feature space in such a way that new variables are orthogonal to each other (i.e. they are independent or not correlated).\n"
      ]
    },
    {
      "cell_type": "code",
      "metadata": {
        "id": "2QfWMQPR4LW-",
        "colab_type": "code",
        "outputId": "e1a8ff1c-c8ef-4f9f-e3ed-e72762ef4831",
        "colab": {
          "base_uri": "https://localhost:8080/",
          "height": 243
        }
      },
      "source": [
        "#fitting the scaled data in PCA\n",
        "from sklearn.decomposition import PCA\n",
        "pca = PCA()\n",
        "pca.fit_transform(X_scaled)\n"
      ],
      "execution_count": 0,
      "outputs": [
        {
          "output_type": "execute_result",
          "data": {
            "text/plain": [
              "array([[ 1.07545735, -1.59237698,  1.37015494, ..., -1.41754717,\n",
              "         1.34210711, -1.2263702 ],\n",
              "       [ 1.12515192, -1.69478767,  1.09444032, ..., -1.07324421,\n",
              "         1.31674503, -1.20845315],\n",
              "       [ 1.17484649, -1.79719837,  0.8187257 , ..., -0.72894124,\n",
              "         1.29138295, -1.1905361 ],\n",
              "       ...,\n",
              "       [-2.32422079,  1.56659065, -1.05985108, ...,  1.88727104,\n",
              "         0.12821777,  1.18674196],\n",
              "       [-2.95285868,  1.38624927,  0.25998008, ...,  0.99014997,\n",
              "        -0.63323965,  1.4086905 ],\n",
              "       [ 1.1304117 ,  0.95651545,  0.07177403, ...,  1.25778932,\n",
              "        -2.1074173 ,  0.7232418 ]])"
            ]
          },
          "metadata": {
            "tags": []
          },
          "execution_count": 64
        }
      ]
    },
    {
      "cell_type": "markdown",
      "metadata": {
        "id": "kA4aqEQBSk6j",
        "colab_type": "text"
      },
      "source": [
        "**Calculating the explained variance of each component**"
      ]
    },
    {
      "cell_type": "code",
      "metadata": {
        "id": "knxmoZOv5-s0",
        "colab_type": "code",
        "colab": {}
      },
      "source": [
        "covariance=pca.get_covariance()"
      ],
      "execution_count": 0,
      "outputs": []
    },
    {
      "cell_type": "code",
      "metadata": {
        "id": "TBUWhxNi6B8U",
        "colab_type": "code",
        "outputId": "1403adf3-1fb9-4a0b-a69e-480bb6c4607a",
        "colab": {
          "base_uri": "https://localhost:8080/",
          "height": 52
        }
      },
      "source": [
        "explained_variance=pca.explained_variance_\n",
        "explained_variance"
      ],
      "execution_count": 0,
      "outputs": [
        {
          "output_type": "execute_result",
          "data": {
            "text/plain": [
              "array([1.50939149, 1.31973076, 1.14840726, 1.07904477, 1.01639548,\n",
              "       0.97532105, 0.92695433, 0.83842032, 0.64102581, 0.54533934])"
            ]
          },
          "metadata": {
            "tags": []
          },
          "execution_count": 66
        }
      ]
    },
    {
      "cell_type": "code",
      "metadata": {
        "id": "l9LqetZZ6EqE",
        "colab_type": "code",
        "outputId": "dddf3c4e-9d87-4fd9-ceb3-81970b5488d5",
        "colab": {
          "base_uri": "https://localhost:8080/",
          "height": 297
        }
      },
      "source": [
        "#plotting invidual explained variance\n",
        "with plt.style.context('dark_background'):\n",
        "    plt.figure(figsize=(6, 4))\n",
        "    \n",
        "    plt.bar(range(10), explained_variance, alpha=0.5, align='center',\n",
        "            label='individual explained variance')\n",
        "    plt.ylabel('Explained variance ratio')\n",
        "    plt.xlabel('Principal components')\n",
        "    plt.legend(loc='best')\n",
        "    plt.tight_layout()"
      ],
      "execution_count": 0,
      "outputs": [
        {
          "output_type": "display_data",
          "data": {
            "image/png": "[encoded data removed]",
            "text/plain": [
              "<Figure size 432x288 with 1 Axes>"
            ]
          },
          "metadata": {
            "tags": []
          }
        }
      ]
    },
    {
      "cell_type": "code",
      "metadata": {
        "id": "Z5LnrbazL8WV",
        "colab_type": "code",
        "outputId": "2b53fcef-0781-4332-fecf-7ef829f18f83",
        "colab": {
          "base_uri": "https://localhost:8080/",
          "height": 309
        }
      },
      "source": [
        "#plotting cumulative explained variance\n",
        "from sklearn.decomposition import PCA\n",
        "pca= PCA(n_components=10).fit_transform(X_scaled)\n",
        "plt.plot(np.cumsum(explained_variance))\n",
        "plt.xlim(0,10,1)\n",
        "plt.xlabel('Number of components')\n",
        "plt.ylabel('Cumulative explained variance')"
      ],
      "execution_count": 0,
      "outputs": [
        {
          "output_type": "execute_result",
          "data": {
            "text/plain": [
              "Text(0, 0.5, 'Cumulative explained variance')"
            ]
          },
          "metadata": {
            "tags": []
          },
          "execution_count": 68
        },
        {
          "output_type": "display_data",
          "data": {
            "image/png": "[encoded data removed]",
            "text/plain": [
              "<Figure size 432x288 with 1 Axes>"
            ]
          },
          "metadata": {
            "tags": []
          }
        }
      ]
    },
    {
      "cell_type": "markdown",
      "metadata": {
        "id": "fH--SSuKdrop",
        "colab_type": "text"
      },
      "source": [
        "Here we see that more than 85% variance is explained by 8 components. So we will look at 8 components and derive the corresponding features from them"
      ]
    },
    {
      "cell_type": "code",
      "metadata": {
        "id": "y3Jq2ZNIbgtl",
        "colab_type": "code",
        "outputId": "d0930c68-2cd7-4a37-d816-0c1b3e118b5d",
        "colab": {
          "base_uri": "https://localhost:8080/",
          "height": 355
        }
      },
      "source": [
        "import pylab as pl\n",
        "from sklearn import datasets\n",
        "from sklearn.decomposition import PCA\n",
        "\n",
        "# loading label encoded dataset\n",
        "x = pd.DataFrame(data=X)\n",
        "\n",
        "# normalizing data\n",
        "from sklearn import preprocessing\n",
        "data_scaled = pd.DataFrame(preprocessing.scale(x),columns = x.columns) \n",
        "\n",
        "# PCA\n",
        "pca = PCA(n_components=8)\n",
        "X_pca=pca.fit_transform(data_scaled)\n",
        "\n",
        "\n",
        "# Dumping components relations with features:\n",
        "components=pd.DataFrame(pca.components_,columns=data_scaled.columns,index = ['PC-1','PC-2','PC-3','PC-4','PC-5','PC-6','PC-7','PC-8'])\n",
        "\n",
        "np.transpose(components)\n",
        "\n"
      ],
      "execution_count": 0,
      "outputs": [
        {
          "output_type": "execute_result",
          "data": {
            "text/html": [
              "<div>\n",
              "<style scoped>\n",
              "    .dataframe tbody tr th:only-of-type {\n",
              "        vertical-align: middle;\n",
              "    }\n",
              "\n",
              "    .dataframe tbody tr th {\n",
              "        vertical-align: top;\n",
              "    }\n",
              "\n",
              "    .dataframe thead th {\n",
              "        text-align: right;\n",
              "    }\n",
              "</style>\n",
              "<table border=\"1\" class=\"dataframe\">\n",
              "  <thead>\n",
              "    <tr style=\"text-align: right;\">\n",
              "      <th></th>\n",
              "      <th>PC-1</th>\n",
              "      <th>PC-2</th>\n",
              "      <th>PC-3</th>\n",
              "      <th>PC-4</th>\n",
              "      <th>PC-5</th>\n",
              "      <th>PC-6</th>\n",
              "      <th>PC-7</th>\n",
              "      <th>PC-8</th>\n",
              "    </tr>\n",
              "  </thead>\n",
              "  <tbody>\n",
              "    <tr>\n",
              "      <th>OFFICE</th>\n",
              "      <td>-0.125455</td>\n",
              "      <td>-0.044700</td>\n",
              "      <td>-0.209211</td>\n",
              "      <td>-0.008694</td>\n",
              "      <td>-0.565237</td>\n",
              "      <td>-0.742596</td>\n",
              "      <td>-0.217129</td>\n",
              "      <td>0.141673</td>\n",
              "    </tr>\n",
              "    <tr>\n",
              "      <th>FAMILY_SIZE</th>\n",
              "      <td>-0.240501</td>\n",
              "      <td>0.002186</td>\n",
              "      <td>0.565540</td>\n",
              "      <td>0.353576</td>\n",
              "      <td>0.003655</td>\n",
              "      <td>0.048999</td>\n",
              "      <td>-0.154886</td>\n",
              "      <td>0.655595</td>\n",
              "    </tr>\n",
              "    <tr>\n",
              "      <th>AGE</th>\n",
              "      <td>-0.030093</td>\n",
              "      <td>0.694176</td>\n",
              "      <td>-0.239745</td>\n",
              "      <td>0.041222</td>\n",
              "      <td>-0.024951</td>\n",
              "      <td>0.058121</td>\n",
              "      <td>0.008811</td>\n",
              "      <td>-0.010461</td>\n",
              "    </tr>\n",
              "    <tr>\n",
              "      <th>IMMIGRATION_STATUS</th>\n",
              "      <td>-0.159893</td>\n",
              "      <td>-0.221210</td>\n",
              "      <td>-0.346336</td>\n",
              "      <td>0.393242</td>\n",
              "      <td>0.139305</td>\n",
              "      <td>-0.154141</td>\n",
              "      <td>0.739853</td>\n",
              "      <td>0.166714</td>\n",
              "    </tr>\n",
              "    <tr>\n",
              "      <th>TIMES_ON_ASSISTANCE</th>\n",
              "      <td>-0.050677</td>\n",
              "      <td>-0.016657</td>\n",
              "      <td>-0.152848</td>\n",
              "      <td>0.256014</td>\n",
              "      <td>0.741389</td>\n",
              "      <td>-0.409390</td>\n",
              "      <td>-0.425090</td>\n",
              "      <td>-0.100300</td>\n",
              "    </tr>\n",
              "    <tr>\n",
              "      <th>MONTHS_ON_ASSISTANCE</th>\n",
              "      <td>-0.644050</td>\n",
              "      <td>-0.041342</td>\n",
              "      <td>-0.070656</td>\n",
              "      <td>-0.179733</td>\n",
              "      <td>-0.018218</td>\n",
              "      <td>0.152631</td>\n",
              "      <td>-0.145844</td>\n",
              "      <td>-0.225003</td>\n",
              "    </tr>\n",
              "    <tr>\n",
              "      <th>MONTHS_OFF_ASSISTANCE</th>\n",
              "      <td>0.669941</td>\n",
              "      <td>0.073424</td>\n",
              "      <td>0.113149</td>\n",
              "      <td>0.019105</td>\n",
              "      <td>0.006838</td>\n",
              "      <td>-0.145382</td>\n",
              "      <td>0.014888</td>\n",
              "      <td>0.038301</td>\n",
              "    </tr>\n",
              "    <tr>\n",
              "      <th>GENDER</th>\n",
              "      <td>0.066945</td>\n",
              "      <td>0.175184</td>\n",
              "      <td>-0.394806</td>\n",
              "      <td>0.613685</td>\n",
              "      <td>-0.246828</td>\n",
              "      <td>0.356203</td>\n",
              "      <td>-0.296839</td>\n",
              "      <td>0.034881</td>\n",
              "    </tr>\n",
              "    <tr>\n",
              "      <th>SHELTER_COSTS</th>\n",
              "      <td>0.091573</td>\n",
              "      <td>-0.188713</td>\n",
              "      <td>-0.508062</td>\n",
              "      <td>-0.441799</td>\n",
              "      <td>0.146777</td>\n",
              "      <td>0.207322</td>\n",
              "      <td>-0.179892</td>\n",
              "      <td>0.634450</td>\n",
              "    </tr>\n",
              "    <tr>\n",
              "      <th>YOUNGEST_DEP_AGE_RANGE</th>\n",
              "      <td>0.144539</td>\n",
              "      <td>-0.627298</td>\n",
              "      <td>-0.061749</td>\n",
              "      <td>0.220369</td>\n",
              "      <td>-0.167217</td>\n",
              "      <td>0.192662</td>\n",
              "      <td>-0.242356</td>\n",
              "      <td>-0.237325</td>\n",
              "    </tr>\n",
              "  </tbody>\n",
              "</table>\n",
              "</div>"
            ],
            "text/plain": [
              "                            PC-1      PC-2  ...      PC-7      PC-8\n",
              "OFFICE                 -0.125455 -0.044700  ... -0.217129  0.141673\n",
              "FAMILY_SIZE            -0.240501  0.002186  ... -0.154886  0.655595\n",
              "AGE                    -0.030093  0.694176  ...  0.008811 -0.010461\n",
              "IMMIGRATION_STATUS     -0.159893 -0.221210  ...  0.739853  0.166714\n",
              "TIMES_ON_ASSISTANCE    -0.050677 -0.016657  ... -0.425090 -0.100300\n",
              "MONTHS_ON_ASSISTANCE   -0.644050 -0.041342  ... -0.145844 -0.225003\n",
              "MONTHS_OFF_ASSISTANCE   0.669941  0.073424  ...  0.014888  0.038301\n",
              "GENDER                  0.066945  0.175184  ... -0.296839  0.034881\n",
              "SHELTER_COSTS           0.091573 -0.188713  ... -0.179892  0.634450\n",
              "YOUNGEST_DEP_AGE_RANGE  0.144539 -0.627298  ... -0.242356 -0.237325\n",
              "\n",
              "[10 rows x 8 columns]"
            ]
          },
          "metadata": {
            "tags": []
          },
          "execution_count": 69
        }
      ]
    },
    {
      "cell_type": "markdown",
      "metadata": {
        "id": "rvquSWxxeLG6",
        "colab_type": "text"
      },
      "source": [
        "Using the FEATURES-COMPONENT table , we can derive the 8 features that we are going to use in our analysis.MONTHS_OFF_ASSISTANCE as PC-1, explains the most variance (66%). Similarly we look at PC-2(AGE-69%),PC-3(FAMILY_SIZE-56%),PC-4(GENDER-61%),PC-5(TIMES_ON_ASSISTANCE-74%),PC-6(OFFICE-74%),PC-7(IMMIGRATION_STATUS-73%),PC-8(SHELTER_COSTS-63%).\n",
        "\n",
        "Using PCA as feature selection technique we derive the following features:\n",
        "\n",
        "*   FAMILY_SIZE\n",
        "*   AGE\n",
        "* TIMES_ON_ASSISTANCE\n",
        "*   MONTHS_OFF_ASSISTANCE\n",
        "*   SHELTER_COSTS\n",
        "* OFFICE\n",
        "* IMMIGRATION_STATUS\n",
        "* GENDER\n",
        "\n",
        "We will drop MONTHS_ON_ASSISTANCE, YOUNGEST_DEP_AGE_RANGE\n",
        "\n",
        "\n",
        "\n"
      ]
    },
    {
      "cell_type": "code",
      "metadata": {
        "id": "GNNhGvW9yu_6",
        "colab_type": "code",
        "colab": {}
      },
      "source": [
        "clsf= org.copy()\n",
        "clsf['FAMILY_SIZE'] = np.where(clsf['FAMILY_SIZE'] =='4+',clsf['FAMILY_SIZE'],\n",
        "                            np.where(clsf['FAMILY_SIZE'] =='4',clsf['FAMILY_SIZE'],\n",
        "                                     np.where(clsf['FAMILY_SIZE'] =='3',clsf['FAMILY_SIZE'],\n",
        "                                              np.where(clsf['FAMILY_SIZE'] =='2',clsf['FAMILY_SIZE'],'1'))))\n",
        "\n",
        "clsf.rename(columns = {'OFF':'OFFICE','CASES                                    ':'CASES'}, inplace = True)\n",
        "\n",
        "\n",
        "\n",
        "clsf.drop([\"YEAR_NUM\",\"MONTHS_ON_ASSISTANCE\",\"YOUNGEST_DEP_AGE_RANGE\",\"MNTH\",\"PROGRAM_NM\",\"EARNINGS\",\"WARD_SCODE\",\"CENSUS_NEIGH_SCODE\",\"EDUCATION_LEVEL\",\"FAMILY_TYP_NM\",],axis =1 , inplace =True)\n",
        "clsf_agg=clsf.groupby([\"OFFICE\", \"FAMILY_SIZE\", \"AGE\", \"IMMIGRATION_STATUS\",\"TIMES_ON_ASSISTANCE\",\"MONTHS_OFF_ASSISTANCE\",\"GENDER\",\"SHELTER_COSTS\"],as_index=False).sum()\n",
        "clsf_agg.shape\n",
        "clsf_agg['EXIT_BINARY']=np.where(clsf_agg['EXITS']==0,0 ,1)\n",
        "clsf_agg.drop([\"CASES\",\"NEW_CASES\"],axis=1,inplace=True)\n",
        "clsf_agg.drop([\"EXITS\"],axis=1,inplace=True)\n",
        "\n",
        "clsf=clsf_agg.copy()\n"
      ],
      "execution_count": 0,
      "outputs": []
    },
    {
      "cell_type": "markdown",
      "metadata": {
        "id": "ncqIfarLQCNZ",
        "colab_type": "text"
      },
      "source": [
        "\n",
        "# **DECISION TREE** \n"
      ]
    },
    {
      "cell_type": "code",
      "metadata": {
        "id": "kC9OD3ku8gDD",
        "colab_type": "code",
        "outputId": "e669c2f2-c669-460d-9151-86ca57df7a8e",
        "colab": {
          "base_uri": "https://localhost:8080/",
          "height": 173
        }
      },
      "source": [
        "#separating features and outcome variable\n",
        "X1 = clsf.iloc[:,0:8]  # all rows, label only\n",
        "y1=clsf['EXIT_BINARY'].to_frame()\n",
        "X1.head()\n",
        "y1.head()\n",
        "X1.dtypes"
      ],
      "execution_count": 0,
      "outputs": [
        {
          "output_type": "execute_result",
          "data": {
            "text/plain": [
              "OFFICE                   object\n",
              "FAMILY_SIZE              object\n",
              "AGE                      object\n",
              "IMMIGRATION_STATUS       object\n",
              "TIMES_ON_ASSISTANCE      object\n",
              "MONTHS_OFF_ASSISTANCE    object\n",
              "GENDER                   object\n",
              "SHELTER_COSTS            object\n",
              "dtype: object"
            ]
          },
          "metadata": {
            "tags": []
          },
          "execution_count": 16
        }
      ]
    },
    {
      "cell_type": "code",
      "metadata": {
        "id": "L246ATAY-4Dp",
        "colab_type": "code",
        "outputId": "f1d299e3-b3fe-440e-80e0-9476e08897f8",
        "colab": {
          "base_uri": "https://localhost:8080/",
          "height": 202
        }
      },
      "source": [
        "X1.head()"
      ],
      "execution_count": 0,
      "outputs": [
        {
          "output_type": "execute_result",
          "data": {
            "text/html": [
              "<div>\n",
              "<style scoped>\n",
              "    .dataframe tbody tr th:only-of-type {\n",
              "        vertical-align: middle;\n",
              "    }\n",
              "\n",
              "    .dataframe tbody tr th {\n",
              "        vertical-align: top;\n",
              "    }\n",
              "\n",
              "    .dataframe thead th {\n",
              "        text-align: right;\n",
              "    }\n",
              "</style>\n",
              "<table border=\"1\" class=\"dataframe\">\n",
              "  <thead>\n",
              "    <tr style=\"text-align: right;\">\n",
              "      <th></th>\n",
              "      <th>OFFICE</th>\n",
              "      <th>FAMILY_SIZE</th>\n",
              "      <th>AGE</th>\n",
              "      <th>IMMIGRATION_STATUS</th>\n",
              "      <th>TIMES_ON_ASSISTANCE</th>\n",
              "      <th>MONTHS_OFF_ASSISTANCE</th>\n",
              "      <th>GENDER</th>\n",
              "      <th>SHELTER_COSTS</th>\n",
              "    </tr>\n",
              "  </thead>\n",
              "  <tbody>\n",
              "    <tr>\n",
              "      <th>0</th>\n",
              "      <td>Application Centre</td>\n",
              "      <td>1</td>\n",
              "      <td>16 to 17 yrs old</td>\n",
              "      <td>Canadian Citizen</td>\n",
              "      <td>1</td>\n",
              "      <td>1 to 6 months</td>\n",
              "      <td>F</td>\n",
              "      <td>$200 to $399</td>\n",
              "    </tr>\n",
              "    <tr>\n",
              "      <th>1</th>\n",
              "      <td>Application Centre</td>\n",
              "      <td>1</td>\n",
              "      <td>16 to 17 yrs old</td>\n",
              "      <td>Canadian Citizen</td>\n",
              "      <td>1</td>\n",
              "      <td>1 to 6 months</td>\n",
              "      <td>F</td>\n",
              "      <td>$400 to $599</td>\n",
              "    </tr>\n",
              "    <tr>\n",
              "      <th>2</th>\n",
              "      <td>Application Centre</td>\n",
              "      <td>1</td>\n",
              "      <td>16 to 17 yrs old</td>\n",
              "      <td>Canadian Citizen</td>\n",
              "      <td>1</td>\n",
              "      <td>1 to 6 months</td>\n",
              "      <td>F</td>\n",
              "      <td>$600 to $999</td>\n",
              "    </tr>\n",
              "    <tr>\n",
              "      <th>3</th>\n",
              "      <td>Application Centre</td>\n",
              "      <td>1</td>\n",
              "      <td>16 to 17 yrs old</td>\n",
              "      <td>Canadian Citizen</td>\n",
              "      <td>1</td>\n",
              "      <td>1 to 6 months</td>\n",
              "      <td>F</td>\n",
              "      <td>No shelter costs</td>\n",
              "    </tr>\n",
              "    <tr>\n",
              "      <th>4</th>\n",
              "      <td>Application Centre</td>\n",
              "      <td>1</td>\n",
              "      <td>16 to 17 yrs old</td>\n",
              "      <td>Canadian Citizen</td>\n",
              "      <td>1</td>\n",
              "      <td>1 to 6 months</td>\n",
              "      <td>M</td>\n",
              "      <td>$200 to $399</td>\n",
              "    </tr>\n",
              "  </tbody>\n",
              "</table>\n",
              "</div>"
            ],
            "text/plain": [
              "               OFFICE FAMILY_SIZE  ... GENDER     SHELTER_COSTS\n",
              "0  Application Centre           1  ...      F      $200 to $399\n",
              "1  Application Centre           1  ...      F      $400 to $599\n",
              "2  Application Centre           1  ...      F      $600 to $999\n",
              "3  Application Centre           1  ...      F  No shelter costs\n",
              "4  Application Centre           1  ...      M      $200 to $399\n",
              "\n",
              "[5 rows x 8 columns]"
            ]
          },
          "metadata": {
            "tags": []
          },
          "execution_count": 17
        }
      ]
    },
    {
      "cell_type": "code",
      "metadata": {
        "id": "-Jmz_Yof8YFU",
        "colab_type": "code",
        "outputId": "a7f71a4f-f014-4541-b621-3baf9f2cae7e",
        "colab": {
          "base_uri": "https://localhost:8080/",
          "height": 309
        }
      },
      "source": [
        "#performing one hot encoding as our variables are categorical\n",
        "import category_encoders as ce\n",
        "from google.colab import files\n",
        "\n",
        "ohe = ce.OneHotEncoder(handle_unknown='ignore', use_cat_names=True)\n",
        "X1 = ohe.fit_transform(X1)\n",
        "X1.head()"
      ],
      "execution_count": 0,
      "outputs": [
        {
          "output_type": "execute_result",
          "data": {
            "text/html": [
              "<div>\n",
              "<style scoped>\n",
              "    .dataframe tbody tr th:only-of-type {\n",
              "        vertical-align: middle;\n",
              "    }\n",
              "\n",
              "    .dataframe tbody tr th {\n",
              "        vertical-align: top;\n",
              "    }\n",
              "\n",
              "    .dataframe thead th {\n",
              "        text-align: right;\n",
              "    }\n",
              "</style>\n",
              "<table border=\"1\" class=\"dataframe\">\n",
              "  <thead>\n",
              "    <tr style=\"text-align: right;\">\n",
              "      <th></th>\n",
              "      <th>OFFICE_Application Centre</th>\n",
              "      <th>OFFICE_Attwell Employment &amp; Social Services</th>\n",
              "      <th>OFFICE_Beaches Employment &amp; Social Services</th>\n",
              "      <th>OFFICE_Chesswood Employment &amp; Social Services</th>\n",
              "      <th>OFFICE_Client Special Services Unit</th>\n",
              "      <th>OFFICE_Consilium Employment &amp; Social Services</th>\n",
              "      <th>OFFICE_Golden Mile Employment &amp; Social Services</th>\n",
              "      <th>OFFICE_High Park Parkdale Employment &amp; Social Services</th>\n",
              "      <th>OFFICE_Kennedy Employment &amp; Social Services</th>\n",
              "      <th>OFFICE_Lawrence Square Employment &amp; Social Services</th>\n",
              "      <th>OFFICE_Lesmill Employment &amp; Social Services</th>\n",
              "      <th>OFFICE_Malvern Employment &amp; Social Services</th>\n",
              "      <th>OFFICE_Metro Hall Employment &amp; Social Services</th>\n",
              "      <th>OFFICE_The Queensway Employment &amp; Social Services</th>\n",
              "      <th>OFFICE_Wellesley Place Employment &amp; Social Services</th>\n",
              "      <th>OFFICE_Yonge Eglinton Employment &amp; Social Services</th>\n",
              "      <th>OFFICE_York Humber Employment &amp; Social Services</th>\n",
              "      <th>FAMILY_SIZE_1</th>\n",
              "      <th>FAMILY_SIZE_2</th>\n",
              "      <th>FAMILY_SIZE_3</th>\n",
              "      <th>FAMILY_SIZE_4</th>\n",
              "      <th>FAMILY_SIZE_4+</th>\n",
              "      <th>AGE_16 to 17 yrs old</th>\n",
              "      <th>AGE_18 to 29 yrs old</th>\n",
              "      <th>AGE_30 to 39 yrs old</th>\n",
              "      <th>AGE_40 to 49 yrs old</th>\n",
              "      <th>AGE_50 to 64 yrs old</th>\n",
              "      <th>AGE_65+ yrs old</th>\n",
              "      <th>AGE_Less than 16 yrs old</th>\n",
              "      <th>IMMIGRATION_STATUS_Canadian Citizen</th>\n",
              "      <th>IMMIGRATION_STATUS_Permanent Resident</th>\n",
              "      <th>IMMIGRATION_STATUS_Refugee Claimant</th>\n",
              "      <th>IMMIGRATION_STATUS_Visitor/Tourist/TempResVisitor/Student Visa</th>\n",
              "      <th>IMMIGRATION_STATUS_Minister Permit</th>\n",
              "      <th>IMMIGRATION_STATUS_No Status</th>\n",
              "      <th>TIMES_ON_ASSISTANCE_1</th>\n",
              "      <th>TIMES_ON_ASSISTANCE_2</th>\n",
              "      <th>TIMES_ON_ASSISTANCE_3</th>\n",
              "      <th>TIMES_ON_ASSISTANCE_4+</th>\n",
              "      <th>MONTHS_OFF_ASSISTANCE_1 to 6 months</th>\n",
              "      <th>MONTHS_OFF_ASSISTANCE_25 to 48 months</th>\n",
              "      <th>MONTHS_OFF_ASSISTANCE_49 to 120 months</th>\n",
              "      <th>MONTHS_OFF_ASSISTANCE_7 to 24 months</th>\n",
              "      <th>MONTHS_OFF_ASSISTANCE_over 120 months</th>\n",
              "      <th>GENDER_F</th>\n",
              "      <th>GENDER_M</th>\n",
              "      <th>GENDER_U</th>\n",
              "      <th>SHELTER_COSTS_$200 to $399</th>\n",
              "      <th>SHELTER_COSTS_$400 to $599</th>\n",
              "      <th>SHELTER_COSTS_$600 to $999</th>\n",
              "      <th>SHELTER_COSTS_No shelter costs</th>\n",
              "      <th>SHELTER_COSTS_Under $200</th>\n",
              "      <th>SHELTER_COSTS_$1000 to $1399</th>\n",
              "      <th>SHELTER_COSTS_$1400 to $1799</th>\n",
              "      <th>SHELTER_COSTS_over $1800</th>\n",
              "    </tr>\n",
              "  </thead>\n",
              "  <tbody>\n",
              "    <tr>\n",
              "      <th>0</th>\n",
              "      <td>1</td>\n",
              "      <td>0</td>\n",
              "      <td>0</td>\n",
              "      <td>0</td>\n",
              "      <td>0</td>\n",
              "      <td>0</td>\n",
              "      <td>0</td>\n",
              "      <td>0</td>\n",
              "      <td>0</td>\n",
              "      <td>0</td>\n",
              "      <td>0</td>\n",
              "      <td>0</td>\n",
              "      <td>0</td>\n",
              "      <td>0</td>\n",
              "      <td>0</td>\n",
              "      <td>0</td>\n",
              "      <td>0</td>\n",
              "      <td>1</td>\n",
              "      <td>0</td>\n",
              "      <td>0</td>\n",
              "      <td>0</td>\n",
              "      <td>0</td>\n",
              "      <td>1</td>\n",
              "      <td>0</td>\n",
              "      <td>0</td>\n",
              "      <td>0</td>\n",
              "      <td>0</td>\n",
              "      <td>0</td>\n",
              "      <td>0</td>\n",
              "      <td>1</td>\n",
              "      <td>0</td>\n",
              "      <td>0</td>\n",
              "      <td>0</td>\n",
              "      <td>0</td>\n",
              "      <td>0</td>\n",
              "      <td>1</td>\n",
              "      <td>0</td>\n",
              "      <td>0</td>\n",
              "      <td>0</td>\n",
              "      <td>1</td>\n",
              "      <td>0</td>\n",
              "      <td>0</td>\n",
              "      <td>0</td>\n",
              "      <td>0</td>\n",
              "      <td>1</td>\n",
              "      <td>0</td>\n",
              "      <td>0</td>\n",
              "      <td>1</td>\n",
              "      <td>0</td>\n",
              "      <td>0</td>\n",
              "      <td>0</td>\n",
              "      <td>0</td>\n",
              "      <td>0</td>\n",
              "      <td>0</td>\n",
              "      <td>0</td>\n",
              "    </tr>\n",
              "    <tr>\n",
              "      <th>1</th>\n",
              "      <td>1</td>\n",
              "      <td>0</td>\n",
              "      <td>0</td>\n",
              "      <td>0</td>\n",
              "      <td>0</td>\n",
              "      <td>0</td>\n",
              "      <td>0</td>\n",
              "      <td>0</td>\n",
              "      <td>0</td>\n",
              "      <td>0</td>\n",
              "      <td>0</td>\n",
              "      <td>0</td>\n",
              "      <td>0</td>\n",
              "      <td>0</td>\n",
              "      <td>0</td>\n",
              "      <td>0</td>\n",
              "      <td>0</td>\n",
              "      <td>1</td>\n",
              "      <td>0</td>\n",
              "      <td>0</td>\n",
              "      <td>0</td>\n",
              "      <td>0</td>\n",
              "      <td>1</td>\n",
              "      <td>0</td>\n",
              "      <td>0</td>\n",
              "      <td>0</td>\n",
              "      <td>0</td>\n",
              "      <td>0</td>\n",
              "      <td>0</td>\n",
              "      <td>1</td>\n",
              "      <td>0</td>\n",
              "      <td>0</td>\n",
              "      <td>0</td>\n",
              "      <td>0</td>\n",
              "      <td>0</td>\n",
              "      <td>1</td>\n",
              "      <td>0</td>\n",
              "      <td>0</td>\n",
              "      <td>0</td>\n",
              "      <td>1</td>\n",
              "      <td>0</td>\n",
              "      <td>0</td>\n",
              "      <td>0</td>\n",
              "      <td>0</td>\n",
              "      <td>1</td>\n",
              "      <td>0</td>\n",
              "      <td>0</td>\n",
              "      <td>0</td>\n",
              "      <td>1</td>\n",
              "      <td>0</td>\n",
              "      <td>0</td>\n",
              "      <td>0</td>\n",
              "      <td>0</td>\n",
              "      <td>0</td>\n",
              "      <td>0</td>\n",
              "    </tr>\n",
              "    <tr>\n",
              "      <th>2</th>\n",
              "      <td>1</td>\n",
              "      <td>0</td>\n",
              "      <td>0</td>\n",
              "      <td>0</td>\n",
              "      <td>0</td>\n",
              "      <td>0</td>\n",
              "      <td>0</td>\n",
              "      <td>0</td>\n",
              "      <td>0</td>\n",
              "      <td>0</td>\n",
              "      <td>0</td>\n",
              "      <td>0</td>\n",
              "      <td>0</td>\n",
              "      <td>0</td>\n",
              "      <td>0</td>\n",
              "      <td>0</td>\n",
              "      <td>0</td>\n",
              "      <td>1</td>\n",
              "      <td>0</td>\n",
              "      <td>0</td>\n",
              "      <td>0</td>\n",
              "      <td>0</td>\n",
              "      <td>1</td>\n",
              "      <td>0</td>\n",
              "      <td>0</td>\n",
              "      <td>0</td>\n",
              "      <td>0</td>\n",
              "      <td>0</td>\n",
              "      <td>0</td>\n",
              "      <td>1</td>\n",
              "      <td>0</td>\n",
              "      <td>0</td>\n",
              "      <td>0</td>\n",
              "      <td>0</td>\n",
              "      <td>0</td>\n",
              "      <td>1</td>\n",
              "      <td>0</td>\n",
              "      <td>0</td>\n",
              "      <td>0</td>\n",
              "      <td>1</td>\n",
              "      <td>0</td>\n",
              "      <td>0</td>\n",
              "      <td>0</td>\n",
              "      <td>0</td>\n",
              "      <td>1</td>\n",
              "      <td>0</td>\n",
              "      <td>0</td>\n",
              "      <td>0</td>\n",
              "      <td>0</td>\n",
              "      <td>1</td>\n",
              "      <td>0</td>\n",
              "      <td>0</td>\n",
              "      <td>0</td>\n",
              "      <td>0</td>\n",
              "      <td>0</td>\n",
              "    </tr>\n",
              "    <tr>\n",
              "      <th>3</th>\n",
              "      <td>1</td>\n",
              "      <td>0</td>\n",
              "      <td>0</td>\n",
              "      <td>0</td>\n",
              "      <td>0</td>\n",
              "      <td>0</td>\n",
              "      <td>0</td>\n",
              "      <td>0</td>\n",
              "      <td>0</td>\n",
              "      <td>0</td>\n",
              "      <td>0</td>\n",
              "      <td>0</td>\n",
              "      <td>0</td>\n",
              "      <td>0</td>\n",
              "      <td>0</td>\n",
              "      <td>0</td>\n",
              "      <td>0</td>\n",
              "      <td>1</td>\n",
              "      <td>0</td>\n",
              "      <td>0</td>\n",
              "      <td>0</td>\n",
              "      <td>0</td>\n",
              "      <td>1</td>\n",
              "      <td>0</td>\n",
              "      <td>0</td>\n",
              "      <td>0</td>\n",
              "      <td>0</td>\n",
              "      <td>0</td>\n",
              "      <td>0</td>\n",
              "      <td>1</td>\n",
              "      <td>0</td>\n",
              "      <td>0</td>\n",
              "      <td>0</td>\n",
              "      <td>0</td>\n",
              "      <td>0</td>\n",
              "      <td>1</td>\n",
              "      <td>0</td>\n",
              "      <td>0</td>\n",
              "      <td>0</td>\n",
              "      <td>1</td>\n",
              "      <td>0</td>\n",
              "      <td>0</td>\n",
              "      <td>0</td>\n",
              "      <td>0</td>\n",
              "      <td>1</td>\n",
              "      <td>0</td>\n",
              "      <td>0</td>\n",
              "      <td>0</td>\n",
              "      <td>0</td>\n",
              "      <td>0</td>\n",
              "      <td>1</td>\n",
              "      <td>0</td>\n",
              "      <td>0</td>\n",
              "      <td>0</td>\n",
              "      <td>0</td>\n",
              "    </tr>\n",
              "    <tr>\n",
              "      <th>4</th>\n",
              "      <td>1</td>\n",
              "      <td>0</td>\n",
              "      <td>0</td>\n",
              "      <td>0</td>\n",
              "      <td>0</td>\n",
              "      <td>0</td>\n",
              "      <td>0</td>\n",
              "      <td>0</td>\n",
              "      <td>0</td>\n",
              "      <td>0</td>\n",
              "      <td>0</td>\n",
              "      <td>0</td>\n",
              "      <td>0</td>\n",
              "      <td>0</td>\n",
              "      <td>0</td>\n",
              "      <td>0</td>\n",
              "      <td>0</td>\n",
              "      <td>1</td>\n",
              "      <td>0</td>\n",
              "      <td>0</td>\n",
              "      <td>0</td>\n",
              "      <td>0</td>\n",
              "      <td>1</td>\n",
              "      <td>0</td>\n",
              "      <td>0</td>\n",
              "      <td>0</td>\n",
              "      <td>0</td>\n",
              "      <td>0</td>\n",
              "      <td>0</td>\n",
              "      <td>1</td>\n",
              "      <td>0</td>\n",
              "      <td>0</td>\n",
              "      <td>0</td>\n",
              "      <td>0</td>\n",
              "      <td>0</td>\n",
              "      <td>1</td>\n",
              "      <td>0</td>\n",
              "      <td>0</td>\n",
              "      <td>0</td>\n",
              "      <td>1</td>\n",
              "      <td>0</td>\n",
              "      <td>0</td>\n",
              "      <td>0</td>\n",
              "      <td>0</td>\n",
              "      <td>0</td>\n",
              "      <td>1</td>\n",
              "      <td>0</td>\n",
              "      <td>1</td>\n",
              "      <td>0</td>\n",
              "      <td>0</td>\n",
              "      <td>0</td>\n",
              "      <td>0</td>\n",
              "      <td>0</td>\n",
              "      <td>0</td>\n",
              "      <td>0</td>\n",
              "    </tr>\n",
              "  </tbody>\n",
              "</table>\n",
              "</div>"
            ],
            "text/plain": [
              "   OFFICE_Application Centre  ...  SHELTER_COSTS_over $1800\n",
              "0                          1  ...                         0\n",
              "1                          1  ...                         0\n",
              "2                          1  ...                         0\n",
              "3                          1  ...                         0\n",
              "4                          1  ...                         0\n",
              "\n",
              "[5 rows x 55 columns]"
            ]
          },
          "metadata": {
            "tags": []
          },
          "execution_count": 20
        }
      ]
    },
    {
      "cell_type": "code",
      "metadata": {
        "id": "JPTJvyguxXLC",
        "colab_type": "code",
        "colab": {}
      },
      "source": [
        "#training and testing by splitting our data\n",
        "from sklearn.model_selection import train_test_split\n",
        "\n",
        "x_train, x_test, y_train, y_test = train_test_split(X1, y1, test_size=0.2, random_state = 1)"
      ],
      "execution_count": 0,
      "outputs": []
    },
    {
      "cell_type": "code",
      "metadata": {
        "id": "OT77qYYG_NU9",
        "colab_type": "code",
        "outputId": "82ac1305-44ac-4750-8d27-67cbc94458dd",
        "colab": {
          "base_uri": "https://localhost:8080/",
          "height": 156
        }
      },
      "source": [
        "#counting the number of 0 and 1 in test and train to see if they are balanced.\n",
        "num_zeros_t = (y_test == 0).sum()\n",
        "num_ones_t = (y_test == 1).sum()\n",
        "print(\"test y=0: \", num_zeros_t)\n",
        "print(\"test y=1: \", num_ones_t)\n",
        "num_zeros = (y_train == 0).sum()\n",
        "num_ones = (y_train == 1).sum()\n",
        "print(\"train y=0: \", num_zeros)\n",
        "print(\"train y=1: \", num_ones)"
      ],
      "execution_count": 0,
      "outputs": [
        {
          "output_type": "stream",
          "text": [
            "test y=0:  EXIT_BINARY    11697\n",
            "dtype: int64\n",
            "test y=1:  EXIT_BINARY    7151\n",
            "dtype: int64\n",
            "train y=0:  EXIT_BINARY    46693\n",
            "dtype: int64\n",
            "train y=1:  EXIT_BINARY    28696\n",
            "dtype: int64\n"
          ],
          "name": "stdout"
        }
      ]
    },
    {
      "cell_type": "code",
      "metadata": {
        "id": "ckI2IwQ1Ag3C",
        "colab_type": "code",
        "outputId": "9208ced9-2906-40fb-a333-29c88b030b5a",
        "colab": {
          "base_uri": "https://localhost:8080/",
          "height": 35
        }
      },
      "source": [
        "from sklearn.tree import DecisionTreeClassifier\n",
        "from sklearn import metrics\n",
        "# Create Decision Tree classifer object\n",
        "clf_DT1 = DecisionTreeClassifier(criterion=\"entropy\", max_depth=10)\n",
        "\n",
        "# Train Decision Tree Classifer\n",
        "clf_DT1 = clf_DT1.fit(x_train,y_train)\n",
        "\n",
        "#Predict the response for test dataset\n",
        "y_pred_DT1 = clf_DT1.predict(x_test)\n",
        "\n",
        "# Model Accuracy, how often is the classifier correct?\n",
        "print(\"Accuracy:\",metrics.accuracy_score(y_test, y_pred_DT1))"
      ],
      "execution_count": 0,
      "outputs": [
        {
          "output_type": "stream",
          "text": [
            "Accuracy: 0.8352079796264855\n"
          ],
          "name": "stdout"
        }
      ]
    },
    {
      "cell_type": "code",
      "metadata": {
        "id": "wlyRu23DA1pZ",
        "colab_type": "code",
        "colab": {}
      },
      "source": [
        "\n",
        "#Applying cross validation to check what number of trees gives a better accuracy score\n",
        "from sklearn.model_selection import cross_val_score\n",
        "\n",
        "scores_DT2 = []\n",
        "\n",
        "for val in range(1,15):\n",
        "    clf_DT2 = DecisionTreeClassifier(criterion=\"entropy\", max_depth=val)\n",
        "    validated = cross_val_score(clf_DT2, x_train, y_train, cv=15)\n",
        "    scores_DT2.append(validated)"
      ],
      "execution_count": 0,
      "outputs": []
    },
    {
      "cell_type": "code",
      "metadata": {
        "id": "nnmkNG7YBIOw",
        "colab_type": "code",
        "outputId": "bccbc84a-fe58-4ede-ad55-dafa26b1e7da",
        "colab": {
          "base_uri": "https://localhost:8080/",
          "height": 303
        }
      },
      "source": [
        "sns.boxplot(data=scores_DT2)\n",
        "plt.xlabel('number of trees')\n",
        "plt.ylabel('Classification scores')\n",
        "plt.title('Decision Tree - Classification score for number of trees', fontsize=15)\n",
        "plt.show()"
      ],
      "execution_count": 0,
      "outputs": [
        {
          "output_type": "display_data",
          "data": {
            "image/png": "[encoded data removed]",
            "text/plain": [
              "<Figure size 432x288 with 1 Axes>"
            ]
          },
          "metadata": {
            "tags": []
          }
        }
      ]
    },
    {
      "cell_type": "markdown",
      "metadata": {
        "id": "nyMS-YWcDuRl",
        "colab_type": "text"
      },
      "source": [
        "We did a trial-and-error approach in the earlier section to see what depth specified for the Decision Tree gives better accuracy. Cross-validation approach was used to validate if the selected parameter was the right choice. The boxplots show that the accuracy tends to decrease after 10 number of trees. And the accuracy of the Decision Trees classifier in the earlier section is 83.5%."
      ]
    },
    {
      "cell_type": "code",
      "metadata": {
        "id": "4eB1QfHrF5V6",
        "colab_type": "code",
        "outputId": "23a72461-3666-4363-9576-c31a56a1835e",
        "colab": {
          "base_uri": "https://localhost:8080/",
          "height": 243
        }
      },
      "source": [
        "#finding accuracy score,precision score and f1 score of the decision tree\n",
        "from sklearn.metrics import classification_report, confusion_matrix, accuracy_score, precision_score, recall_score, f1_score\n",
        "\n",
        "import plotly.plotly as py\n",
        "import plotly.tools as tls\n",
        "\n",
        "import matplotlib.pyplot as plt\n",
        "\n",
        "print(\"Decision Tree Classification Metrics\")\n",
        "print(confusion_matrix(y_test,y_pred_DT1))  \n",
        "print(classification_report(y_test,y_pred_DT1))\n",
        "print(f1_score(y_test,y_pred_DT1))  "
      ],
      "execution_count": 0,
      "outputs": [
        {
          "output_type": "stream",
          "text": [
            "Decision Tree Classification Metrics\n",
            "[[10246  1451]\n",
            " [ 1655  5496]]\n",
            "              precision    recall  f1-score   support\n",
            "\n",
            "           0       0.86      0.88      0.87     11697\n",
            "           1       0.79      0.77      0.78      7151\n",
            "\n",
            "    accuracy                           0.84     18848\n",
            "   macro avg       0.83      0.82      0.82     18848\n",
            "weighted avg       0.83      0.84      0.83     18848\n",
            "\n",
            "0.779685061710881\n"
          ],
          "name": "stdout"
        }
      ]
    },
    {
      "cell_type": "code",
      "metadata": {
        "id": "Ykoono-AIEEo",
        "colab_type": "code",
        "colab": {}
      },
      "source": [
        "#visualizing decision tree\n",
        "feature_names = list(X1.columns)\n",
        "from sklearn.tree import export_graphviz\n",
        "\n",
        "export_graphviz(clf_DT1, out_file=\"tree.dot\", class_names=[\"Exit_yes\", \"Exit_no\"],\n",
        " feature_names=feature_names, impurity=False, filled=True)\n",
        "\n",
        "import graphviz\n",
        "with open(\"tree.dot\") as f:\n",
        " dot_graph = f.read()\n",
        "graphviz.Source(dot_graph)\n"
      ],
      "execution_count": 0,
      "outputs": []
    },
    {
      "cell_type": "markdown",
      "metadata": {
        "id": "JDQssn06__cw",
        "colab_type": "text"
      },
      "source": [
        "# **RANDOM FOREST**"
      ]
    },
    {
      "cell_type": "code",
      "metadata": {
        "id": "bTtafO_rAFEJ",
        "colab_type": "code",
        "outputId": "da2a535a-6f3a-455a-eb33-e76273960933",
        "colab": {
          "base_uri": "https://localhost:8080/",
          "height": 104
        }
      },
      "source": [
        "#Import the model we are using\n",
        "from sklearn.ensemble import RandomForestClassifier\n",
        "from sklearn.model_selection import GridSearchCV\n",
        "\n",
        "# Instantiate model \n",
        "rf = RandomForestClassifier(random_state=42)\n",
        "\n",
        "param_grid = { \n",
        "    'n_estimators': [25,50,100],\n",
        "    'max_depth' : [5,10,15],\n",
        "    'criterion' :['gini', 'entropy'],\n",
        "    'bootstrap': [True,False]\n",
        "}\n",
        "\n",
        "# Train the model on training data using GridSearch\n",
        "CV_rfc = GridSearchCV(estimator=rf, param_grid=param_grid)\n",
        "CV_rfc.fit(x_train, y_train.values.ravel())\n",
        "\n",
        "\n",
        "#Grid Search Best Parameters\n",
        "CV_rfc.best_params_"
      ],
      "execution_count": 0,
      "outputs": [
        {
          "output_type": "stream",
          "text": [
            "/usr/local/lib/python3.6/dist-packages/sklearn/model_selection/_split.py:1978: FutureWarning:\n",
            "\n",
            "The default value of cv will change from 3 to 5 in version 0.22. Specify it explicitly to silence this warning.\n",
            "\n"
          ],
          "name": "stderr"
        },
        {
          "output_type": "execute_result",
          "data": {
            "text/plain": [
              "{'bootstrap': False, 'criterion': 'gini', 'max_depth': 15, 'n_estimators': 100}"
            ]
          },
          "metadata": {
            "tags": []
          },
          "execution_count": 60
        }
      ]
    },
    {
      "cell_type": "code",
      "metadata": {
        "id": "_DYjU_a4D_86",
        "colab_type": "code",
        "colab": {}
      },
      "source": [
        "#Initiate the model with GridSearch Parameters\n",
        "\n",
        "rf_grid = RandomForestClassifier(n_estimators = 100, criterion = 'gini', max_depth = 15, \n",
        "                                 bootstrap=False,random_state=43)\n",
        "\n",
        "# Train the model on training data\n",
        "rf_grid.fit(x_train, y_train.values.ravel())\n",
        " \n",
        " \n",
        "# Use the forest's predict method on the test data\n",
        "predictions=rf_grid.predict(x_test)\n",
        " \n"
      ],
      "execution_count": 0,
      "outputs": []
    },
    {
      "cell_type": "code",
      "metadata": {
        "id": "_KUJGXqfEIrN",
        "colab_type": "code",
        "outputId": "93a8a3dd-1d84-45c8-f343-8af8c0cad46f",
        "colab": {
          "base_uri": "https://localhost:8080/",
          "height": 87
        }
      },
      "source": [
        "#Import scikit-learn metrics module for accuracy calculation\n",
        "from sklearn import metrics\n",
        "# Model Accuracy: how often is the classifier correct?\n",
        "print(\"Accuracy\",round(metrics.accuracy_score(y_test.values.ravel(), predictions),4))\n",
        "\n",
        "# Model Precision: what percentage of positive tuples are labeled as such?\n",
        "print(\"Precision:\",round(metrics.precision_score(y_test.values.ravel(), predictions),3))\n",
        "\n",
        "# Model Recall: what percentage of positive tuples are labelled as such?\n",
        "print(\"Recall\",round(metrics.recall_score(y_test.values.ravel(), predictions),3))\n",
        "print(\"F1-Score\",round(metrics.f1_score(y_test.values.ravel(), predictions),3))"
      ],
      "execution_count": 0,
      "outputs": [
        {
          "output_type": "stream",
          "text": [
            "Accuracy 0.8441\n",
            "Precision: 0.779\n",
            "Recall 0.822\n",
            "F1-Score 0.8\n"
          ],
          "name": "stdout"
        }
      ]
    },
    {
      "cell_type": "markdown",
      "metadata": {
        "id": "wlZ6cEeMBh0x",
        "colab_type": "text"
      },
      "source": [
        "# **LOGISTIC REGRESSION**\n",
        "\n",
        "\n",
        "           \n"
      ]
    },
    {
      "cell_type": "markdown",
      "metadata": {
        "id": "GwCZNnmIbIfb",
        "colab_type": "text"
      },
      "source": [
        "The data is related with Ontario works assistance program. The classification goal is to predict if the client will Exit (1/0) assistance program. Our outcome variable is defined as EXIT_BINARY with Y/N\n",
        "\n",
        "\n",
        " It includes 9536341 records and 13 fields"
      ]
    },
    {
      "cell_type": "code",
      "metadata": {
        "id": "drot0vjjbGHm",
        "colab_type": "code",
        "colab": {}
      },
      "source": [
        "print(h.shape)\n",
        "print(list(h.columns))"
      ],
      "execution_count": 0,
      "outputs": []
    },
    {
      "cell_type": "code",
      "metadata": {
        "id": "M3fH_eykbirt",
        "colab_type": "code",
        "colab": {}
      },
      "source": [
        "h.head()"
      ],
      "execution_count": 0,
      "outputs": []
    },
    {
      "cell_type": "markdown",
      "metadata": {
        "id": "Nu-yKViAbraQ",
        "colab_type": "text"
      },
      "source": [
        "## **Data exploration and manipulation**\n",
        "Using PCA we have identified our best 8 features. We will use those eight features in logistic regression and will drop others. "
      ]
    },
    {
      "cell_type": "code",
      "metadata": {
        "id": "zGTUrqTqbq72",
        "colab_type": "code",
        "colab": {}
      },
      "source": [
        "lr = org.copy()\n",
        "lr['FAMILY_SIZE'] = np.where(lr['FAMILY_SIZE'] =='4+',lr['FAMILY_SIZE'],\n",
        "                            np.where(lr['FAMILY_SIZE'] =='4',lr['FAMILY_SIZE'],\n",
        "                                     np.where(lr['FAMILY_SIZE'] =='3',lr['FAMILY_SIZE'],\n",
        "                                              np.where(lr['FAMILY_SIZE'] =='2',lr['FAMILY_SIZE'],'1'))))\n",
        "\n",
        "lr.rename(columns = {'OFF':'OFFICE','CASES                                    ':'CASES'}, inplace = True)\n",
        "\n",
        "lr.drop([\"YEAR_NUM\",\"MONTHS_ON_ASSISTANCE\",\"YOUNGEST_DEP_AGE_RANGE\",\"MNTH\",\"PROGRAM_NM\",\"EARNINGS\",\"WARD_SCODE\",\"CENSUS_NEIGH_SCODE\",\"EDUCATION_LEVEL\",\"FAMILY_TYP_NM\",],axis =1 , inplace =True)\n",
        "lr_agg=lr.groupby([\"OFFICE\", \"FAMILY_SIZE\", \"AGE\", \"IMMIGRATION_STATUS\",\"TIMES_ON_ASSISTANCE\",\"MONTHS_OFF_ASSISTANCE\",\"GENDER\",\"SHELTER_COSTS\"],as_index=False).sum()\n",
        "\n",
        "lr_agg['EXIT_BINARY'] = np.where(lr_agg['EXITS']==0,0 ,1)\n",
        "\n",
        "lr_agg.drop([\"NEW_CASES\",\"EXITS\",\"CASES\"],axis =1 , inplace =True)\n",
        "\n",
        "lr=lr_agg.copy()\n"
      ],
      "execution_count": 0,
      "outputs": []
    },
    {
      "cell_type": "code",
      "metadata": {
        "id": "F-Gmt1x6ctHZ",
        "colab_type": "code",
        "outputId": "f44f5f24-8706-4531-cab3-1fccd7967951",
        "colab": {
          "base_uri": "https://localhost:8080/",
          "height": 291
        }
      },
      "source": [
        "sns.countplot(x='EXIT_BINARY',data=lr, palette='hls')\n",
        "plt.show()"
      ],
      "execution_count": 0,
      "outputs": [
        {
          "output_type": "display_data",
          "data": {
            "image/png": "[encoded data removed]",
            "text/plain": [
              "<Figure size 432x288 with 1 Axes>"
            ]
          },
          "metadata": {
            "tags": []
          }
        }
      ]
    },
    {
      "cell_type": "markdown",
      "metadata": {
        "id": "Q8l_JmncdaEM",
        "colab_type": "text"
      },
      "source": [
        "our classes are looking balanced"
      ]
    },
    {
      "cell_type": "markdown",
      "metadata": {
        "id": "lF5kKXSDgSAd",
        "colab_type": "text"
      },
      "source": [
        "## **Creating dummy variables**"
      ]
    },
    {
      "cell_type": "code",
      "metadata": {
        "id": "K_aBNySoehzc",
        "colab_type": "code",
        "colab": {}
      },
      "source": [
        "df=pd.get_dummies(lr, columns=['OFFICE','AGE','IMMIGRATION_STATUS','TIMES_ON_ASSISTANCE','FAMILY_SIZE','MONTHS_OFF_ASSISTANCE','GENDER','SHELTER_COSTS',])"
      ],
      "execution_count": 0,
      "outputs": []
    },
    {
      "cell_type": "code",
      "metadata": {
        "id": "70Ark34s43vQ",
        "colab_type": "code",
        "outputId": "3c3db1b9-0f35-41db-c724-24cd80855761",
        "colab": {
          "base_uri": "https://localhost:8080/",
          "height": 309
        }
      },
      "source": [
        "df.head()"
      ],
      "execution_count": 0,
      "outputs": [
        {
          "output_type": "execute_result",
          "data": {
            "text/html": [
              "<div>\n",
              "<style scoped>\n",
              "    .dataframe tbody tr th:only-of-type {\n",
              "        vertical-align: middle;\n",
              "    }\n",
              "\n",
              "    .dataframe tbody tr th {\n",
              "        vertical-align: top;\n",
              "    }\n",
              "\n",
              "    .dataframe thead th {\n",
              "        text-align: right;\n",
              "    }\n",
              "</style>\n",
              "<table border=\"1\" class=\"dataframe\">\n",
              "  <thead>\n",
              "    <tr style=\"text-align: right;\">\n",
              "      <th></th>\n",
              "      <th>EXIT_BINARY</th>\n",
              "      <th>OFFICE_Application Centre</th>\n",
              "      <th>OFFICE_Attwell Employment &amp; Social Services</th>\n",
              "      <th>OFFICE_Beaches Employment &amp; Social Services</th>\n",
              "      <th>OFFICE_Chesswood Employment &amp; Social Services</th>\n",
              "      <th>OFFICE_Client Special Services Unit</th>\n",
              "      <th>OFFICE_Consilium Employment &amp; Social Services</th>\n",
              "      <th>OFFICE_Golden Mile Employment &amp; Social Services</th>\n",
              "      <th>OFFICE_High Park Parkdale Employment &amp; Social Services</th>\n",
              "      <th>OFFICE_Kennedy Employment &amp; Social Services</th>\n",
              "      <th>OFFICE_Lawrence Square Employment &amp; Social Services</th>\n",
              "      <th>OFFICE_Lesmill Employment &amp; Social Services</th>\n",
              "      <th>OFFICE_Malvern Employment &amp; Social Services</th>\n",
              "      <th>OFFICE_Metro Hall Employment &amp; Social Services</th>\n",
              "      <th>OFFICE_The Queensway Employment &amp; Social Services</th>\n",
              "      <th>OFFICE_Wellesley Place Employment &amp; Social Services</th>\n",
              "      <th>OFFICE_Yonge Eglinton Employment &amp; Social Services</th>\n",
              "      <th>OFFICE_York Humber Employment &amp; Social Services</th>\n",
              "      <th>AGE_16 to 17 yrs old</th>\n",
              "      <th>AGE_18 to 29 yrs old</th>\n",
              "      <th>AGE_30 to 39 yrs old</th>\n",
              "      <th>AGE_40 to 49 yrs old</th>\n",
              "      <th>AGE_50 to 64 yrs old</th>\n",
              "      <th>AGE_65+ yrs old</th>\n",
              "      <th>AGE_Less than 16 yrs old</th>\n",
              "      <th>IMMIGRATION_STATUS_Canadian Citizen</th>\n",
              "      <th>IMMIGRATION_STATUS_Minister Permit</th>\n",
              "      <th>IMMIGRATION_STATUS_No Status</th>\n",
              "      <th>IMMIGRATION_STATUS_Permanent Resident</th>\n",
              "      <th>IMMIGRATION_STATUS_Refugee Claimant</th>\n",
              "      <th>IMMIGRATION_STATUS_Visitor/Tourist/TempResVisitor/Student Visa</th>\n",
              "      <th>TIMES_ON_ASSISTANCE_1</th>\n",
              "      <th>TIMES_ON_ASSISTANCE_2</th>\n",
              "      <th>TIMES_ON_ASSISTANCE_3</th>\n",
              "      <th>TIMES_ON_ASSISTANCE_4+</th>\n",
              "      <th>FAMILY_SIZE_1</th>\n",
              "      <th>FAMILY_SIZE_2</th>\n",
              "      <th>FAMILY_SIZE_3</th>\n",
              "      <th>FAMILY_SIZE_4</th>\n",
              "      <th>FAMILY_SIZE_4+</th>\n",
              "      <th>MONTHS_OFF_ASSISTANCE_1 to 6 months</th>\n",
              "      <th>MONTHS_OFF_ASSISTANCE_25 to 48 months</th>\n",
              "      <th>MONTHS_OFF_ASSISTANCE_49 to 120 months</th>\n",
              "      <th>MONTHS_OFF_ASSISTANCE_7 to 24 months</th>\n",
              "      <th>MONTHS_OFF_ASSISTANCE_over 120 months</th>\n",
              "      <th>GENDER_F</th>\n",
              "      <th>GENDER_M</th>\n",
              "      <th>GENDER_U</th>\n",
              "      <th>SHELTER_COSTS_$1000 to $1399</th>\n",
              "      <th>SHELTER_COSTS_$1400 to $1799</th>\n",
              "      <th>SHELTER_COSTS_$200 to $399</th>\n",
              "      <th>SHELTER_COSTS_$400 to $599</th>\n",
              "      <th>SHELTER_COSTS_$600 to $999</th>\n",
              "      <th>SHELTER_COSTS_No shelter costs</th>\n",
              "      <th>SHELTER_COSTS_Under $200</th>\n",
              "      <th>SHELTER_COSTS_over $1800</th>\n",
              "    </tr>\n",
              "  </thead>\n",
              "  <tbody>\n",
              "    <tr>\n",
              "      <th>0</th>\n",
              "      <td>0</td>\n",
              "      <td>1</td>\n",
              "      <td>0</td>\n",
              "      <td>0</td>\n",
              "      <td>0</td>\n",
              "      <td>0</td>\n",
              "      <td>0</td>\n",
              "      <td>0</td>\n",
              "      <td>0</td>\n",
              "      <td>0</td>\n",
              "      <td>0</td>\n",
              "      <td>0</td>\n",
              "      <td>0</td>\n",
              "      <td>0</td>\n",
              "      <td>0</td>\n",
              "      <td>0</td>\n",
              "      <td>0</td>\n",
              "      <td>0</td>\n",
              "      <td>1</td>\n",
              "      <td>0</td>\n",
              "      <td>0</td>\n",
              "      <td>0</td>\n",
              "      <td>0</td>\n",
              "      <td>0</td>\n",
              "      <td>0</td>\n",
              "      <td>1</td>\n",
              "      <td>0</td>\n",
              "      <td>0</td>\n",
              "      <td>0</td>\n",
              "      <td>0</td>\n",
              "      <td>0</td>\n",
              "      <td>1</td>\n",
              "      <td>0</td>\n",
              "      <td>0</td>\n",
              "      <td>0</td>\n",
              "      <td>1</td>\n",
              "      <td>0</td>\n",
              "      <td>0</td>\n",
              "      <td>0</td>\n",
              "      <td>0</td>\n",
              "      <td>1</td>\n",
              "      <td>0</td>\n",
              "      <td>0</td>\n",
              "      <td>0</td>\n",
              "      <td>0</td>\n",
              "      <td>1</td>\n",
              "      <td>0</td>\n",
              "      <td>0</td>\n",
              "      <td>0</td>\n",
              "      <td>0</td>\n",
              "      <td>1</td>\n",
              "      <td>0</td>\n",
              "      <td>0</td>\n",
              "      <td>0</td>\n",
              "      <td>0</td>\n",
              "      <td>0</td>\n",
              "    </tr>\n",
              "    <tr>\n",
              "      <th>1</th>\n",
              "      <td>0</td>\n",
              "      <td>1</td>\n",
              "      <td>0</td>\n",
              "      <td>0</td>\n",
              "      <td>0</td>\n",
              "      <td>0</td>\n",
              "      <td>0</td>\n",
              "      <td>0</td>\n",
              "      <td>0</td>\n",
              "      <td>0</td>\n",
              "      <td>0</td>\n",
              "      <td>0</td>\n",
              "      <td>0</td>\n",
              "      <td>0</td>\n",
              "      <td>0</td>\n",
              "      <td>0</td>\n",
              "      <td>0</td>\n",
              "      <td>0</td>\n",
              "      <td>1</td>\n",
              "      <td>0</td>\n",
              "      <td>0</td>\n",
              "      <td>0</td>\n",
              "      <td>0</td>\n",
              "      <td>0</td>\n",
              "      <td>0</td>\n",
              "      <td>1</td>\n",
              "      <td>0</td>\n",
              "      <td>0</td>\n",
              "      <td>0</td>\n",
              "      <td>0</td>\n",
              "      <td>0</td>\n",
              "      <td>1</td>\n",
              "      <td>0</td>\n",
              "      <td>0</td>\n",
              "      <td>0</td>\n",
              "      <td>1</td>\n",
              "      <td>0</td>\n",
              "      <td>0</td>\n",
              "      <td>0</td>\n",
              "      <td>0</td>\n",
              "      <td>1</td>\n",
              "      <td>0</td>\n",
              "      <td>0</td>\n",
              "      <td>0</td>\n",
              "      <td>0</td>\n",
              "      <td>1</td>\n",
              "      <td>0</td>\n",
              "      <td>0</td>\n",
              "      <td>0</td>\n",
              "      <td>0</td>\n",
              "      <td>0</td>\n",
              "      <td>1</td>\n",
              "      <td>0</td>\n",
              "      <td>0</td>\n",
              "      <td>0</td>\n",
              "      <td>0</td>\n",
              "    </tr>\n",
              "    <tr>\n",
              "      <th>2</th>\n",
              "      <td>0</td>\n",
              "      <td>1</td>\n",
              "      <td>0</td>\n",
              "      <td>0</td>\n",
              "      <td>0</td>\n",
              "      <td>0</td>\n",
              "      <td>0</td>\n",
              "      <td>0</td>\n",
              "      <td>0</td>\n",
              "      <td>0</td>\n",
              "      <td>0</td>\n",
              "      <td>0</td>\n",
              "      <td>0</td>\n",
              "      <td>0</td>\n",
              "      <td>0</td>\n",
              "      <td>0</td>\n",
              "      <td>0</td>\n",
              "      <td>0</td>\n",
              "      <td>1</td>\n",
              "      <td>0</td>\n",
              "      <td>0</td>\n",
              "      <td>0</td>\n",
              "      <td>0</td>\n",
              "      <td>0</td>\n",
              "      <td>0</td>\n",
              "      <td>1</td>\n",
              "      <td>0</td>\n",
              "      <td>0</td>\n",
              "      <td>0</td>\n",
              "      <td>0</td>\n",
              "      <td>0</td>\n",
              "      <td>1</td>\n",
              "      <td>0</td>\n",
              "      <td>0</td>\n",
              "      <td>0</td>\n",
              "      <td>1</td>\n",
              "      <td>0</td>\n",
              "      <td>0</td>\n",
              "      <td>0</td>\n",
              "      <td>0</td>\n",
              "      <td>1</td>\n",
              "      <td>0</td>\n",
              "      <td>0</td>\n",
              "      <td>0</td>\n",
              "      <td>0</td>\n",
              "      <td>1</td>\n",
              "      <td>0</td>\n",
              "      <td>0</td>\n",
              "      <td>0</td>\n",
              "      <td>0</td>\n",
              "      <td>0</td>\n",
              "      <td>0</td>\n",
              "      <td>1</td>\n",
              "      <td>0</td>\n",
              "      <td>0</td>\n",
              "      <td>0</td>\n",
              "    </tr>\n",
              "    <tr>\n",
              "      <th>3</th>\n",
              "      <td>0</td>\n",
              "      <td>1</td>\n",
              "      <td>0</td>\n",
              "      <td>0</td>\n",
              "      <td>0</td>\n",
              "      <td>0</td>\n",
              "      <td>0</td>\n",
              "      <td>0</td>\n",
              "      <td>0</td>\n",
              "      <td>0</td>\n",
              "      <td>0</td>\n",
              "      <td>0</td>\n",
              "      <td>0</td>\n",
              "      <td>0</td>\n",
              "      <td>0</td>\n",
              "      <td>0</td>\n",
              "      <td>0</td>\n",
              "      <td>0</td>\n",
              "      <td>1</td>\n",
              "      <td>0</td>\n",
              "      <td>0</td>\n",
              "      <td>0</td>\n",
              "      <td>0</td>\n",
              "      <td>0</td>\n",
              "      <td>0</td>\n",
              "      <td>1</td>\n",
              "      <td>0</td>\n",
              "      <td>0</td>\n",
              "      <td>0</td>\n",
              "      <td>0</td>\n",
              "      <td>0</td>\n",
              "      <td>1</td>\n",
              "      <td>0</td>\n",
              "      <td>0</td>\n",
              "      <td>0</td>\n",
              "      <td>1</td>\n",
              "      <td>0</td>\n",
              "      <td>0</td>\n",
              "      <td>0</td>\n",
              "      <td>0</td>\n",
              "      <td>1</td>\n",
              "      <td>0</td>\n",
              "      <td>0</td>\n",
              "      <td>0</td>\n",
              "      <td>0</td>\n",
              "      <td>1</td>\n",
              "      <td>0</td>\n",
              "      <td>0</td>\n",
              "      <td>0</td>\n",
              "      <td>0</td>\n",
              "      <td>0</td>\n",
              "      <td>0</td>\n",
              "      <td>0</td>\n",
              "      <td>1</td>\n",
              "      <td>0</td>\n",
              "      <td>0</td>\n",
              "    </tr>\n",
              "    <tr>\n",
              "      <th>4</th>\n",
              "      <td>0</td>\n",
              "      <td>1</td>\n",
              "      <td>0</td>\n",
              "      <td>0</td>\n",
              "      <td>0</td>\n",
              "      <td>0</td>\n",
              "      <td>0</td>\n",
              "      <td>0</td>\n",
              "      <td>0</td>\n",
              "      <td>0</td>\n",
              "      <td>0</td>\n",
              "      <td>0</td>\n",
              "      <td>0</td>\n",
              "      <td>0</td>\n",
              "      <td>0</td>\n",
              "      <td>0</td>\n",
              "      <td>0</td>\n",
              "      <td>0</td>\n",
              "      <td>1</td>\n",
              "      <td>0</td>\n",
              "      <td>0</td>\n",
              "      <td>0</td>\n",
              "      <td>0</td>\n",
              "      <td>0</td>\n",
              "      <td>0</td>\n",
              "      <td>1</td>\n",
              "      <td>0</td>\n",
              "      <td>0</td>\n",
              "      <td>0</td>\n",
              "      <td>0</td>\n",
              "      <td>0</td>\n",
              "      <td>1</td>\n",
              "      <td>0</td>\n",
              "      <td>0</td>\n",
              "      <td>0</td>\n",
              "      <td>1</td>\n",
              "      <td>0</td>\n",
              "      <td>0</td>\n",
              "      <td>0</td>\n",
              "      <td>0</td>\n",
              "      <td>1</td>\n",
              "      <td>0</td>\n",
              "      <td>0</td>\n",
              "      <td>0</td>\n",
              "      <td>0</td>\n",
              "      <td>0</td>\n",
              "      <td>1</td>\n",
              "      <td>0</td>\n",
              "      <td>0</td>\n",
              "      <td>0</td>\n",
              "      <td>1</td>\n",
              "      <td>0</td>\n",
              "      <td>0</td>\n",
              "      <td>0</td>\n",
              "      <td>0</td>\n",
              "      <td>0</td>\n",
              "    </tr>\n",
              "  </tbody>\n",
              "</table>\n",
              "</div>"
            ],
            "text/plain": [
              "   EXIT_BINARY  ...  SHELTER_COSTS_over $1800\n",
              "0            0  ...                         0\n",
              "1            0  ...                         0\n",
              "2            0  ...                         0\n",
              "3            0  ...                         0\n",
              "4            0  ...                         0\n",
              "\n",
              "[5 rows x 56 columns]"
            ]
          },
          "metadata": {
            "tags": []
          },
          "execution_count": 67
        }
      ]
    },
    {
      "cell_type": "code",
      "metadata": {
        "id": "yWt2Yp3S833u",
        "colab_type": "code",
        "outputId": "19e70f48-eeeb-4a6b-edc4-b378cb0be3af",
        "colab": {
          "base_uri": "https://localhost:8080/",
          "height": 202
        }
      },
      "source": [
        "X2 =df.iloc[:,1:56]  # all rows, label only\n",
        "y2= df.iloc[:,0:1]\n",
        "X2.head()\n",
        "y2.head()"
      ],
      "execution_count": 0,
      "outputs": [
        {
          "output_type": "execute_result",
          "data": {
            "text/html": [
              "<div>\n",
              "<style scoped>\n",
              "    .dataframe tbody tr th:only-of-type {\n",
              "        vertical-align: middle;\n",
              "    }\n",
              "\n",
              "    .dataframe tbody tr th {\n",
              "        vertical-align: top;\n",
              "    }\n",
              "\n",
              "    .dataframe thead th {\n",
              "        text-align: right;\n",
              "    }\n",
              "</style>\n",
              "<table border=\"1\" class=\"dataframe\">\n",
              "  <thead>\n",
              "    <tr style=\"text-align: right;\">\n",
              "      <th></th>\n",
              "      <th>EXIT_BINARY</th>\n",
              "    </tr>\n",
              "  </thead>\n",
              "  <tbody>\n",
              "    <tr>\n",
              "      <th>0</th>\n",
              "      <td>0</td>\n",
              "    </tr>\n",
              "    <tr>\n",
              "      <th>1</th>\n",
              "      <td>0</td>\n",
              "    </tr>\n",
              "    <tr>\n",
              "      <th>2</th>\n",
              "      <td>0</td>\n",
              "    </tr>\n",
              "    <tr>\n",
              "      <th>3</th>\n",
              "      <td>0</td>\n",
              "    </tr>\n",
              "    <tr>\n",
              "      <th>4</th>\n",
              "      <td>0</td>\n",
              "    </tr>\n",
              "  </tbody>\n",
              "</table>\n",
              "</div>"
            ],
            "text/plain": [
              "   EXIT_BINARY\n",
              "0            0\n",
              "1            0\n",
              "2            0\n",
              "3            0\n",
              "4            0"
            ]
          },
          "metadata": {
            "tags": []
          },
          "execution_count": 68
        }
      ]
    },
    {
      "cell_type": "markdown",
      "metadata": {
        "id": "yQHzwXOFPePn",
        "colab_type": "text"
      },
      "source": [
        "## **Recursive feature elimination**"
      ]
    },
    {
      "cell_type": "code",
      "metadata": {
        "id": "LM8Prq-XPclp",
        "colab_type": "code",
        "outputId": "42611dd0-dec6-4e52-80bd-bcb1d84ab537",
        "colab": {
          "base_uri": "https://localhost:8080/",
          "height": 971
        }
      },
      "source": [
        "list(X2)"
      ],
      "execution_count": 0,
      "outputs": [
        {
          "output_type": "execute_result",
          "data": {
            "text/plain": [
              "['OFFICE_Application Centre',\n",
              " 'OFFICE_Attwell Employment & Social Services',\n",
              " 'OFFICE_Beaches Employment & Social Services',\n",
              " 'OFFICE_Chesswood Employment & Social Services',\n",
              " 'OFFICE_Client Special Services Unit',\n",
              " 'OFFICE_Consilium Employment & Social Services',\n",
              " 'OFFICE_Golden Mile Employment & Social Services',\n",
              " 'OFFICE_High Park Parkdale Employment & Social Services',\n",
              " 'OFFICE_Kennedy Employment & Social Services',\n",
              " 'OFFICE_Lawrence Square Employment & Social Services',\n",
              " 'OFFICE_Lesmill Employment & Social Services',\n",
              " 'OFFICE_Malvern Employment & Social Services',\n",
              " 'OFFICE_Metro Hall Employment & Social Services',\n",
              " 'OFFICE_The Queensway Employment & Social Services',\n",
              " 'OFFICE_Wellesley Place Employment & Social Services',\n",
              " 'OFFICE_Yonge Eglinton Employment & Social Services',\n",
              " 'OFFICE_York Humber Employment & Social Services',\n",
              " 'AGE_16 to 17 yrs old',\n",
              " 'AGE_18 to 29 yrs old',\n",
              " 'AGE_30 to 39 yrs old',\n",
              " 'AGE_40 to 49 yrs old',\n",
              " 'AGE_50 to 64 yrs old',\n",
              " 'AGE_65+ yrs old',\n",
              " 'AGE_Less than 16 yrs old',\n",
              " 'IMMIGRATION_STATUS_Canadian Citizen',\n",
              " 'IMMIGRATION_STATUS_Minister Permit',\n",
              " 'IMMIGRATION_STATUS_No Status',\n",
              " 'IMMIGRATION_STATUS_Permanent Resident',\n",
              " 'IMMIGRATION_STATUS_Refugee Claimant',\n",
              " 'IMMIGRATION_STATUS_Visitor/Tourist/TempResVisitor/Student Visa',\n",
              " 'TIMES_ON_ASSISTANCE_1',\n",
              " 'TIMES_ON_ASSISTANCE_2',\n",
              " 'TIMES_ON_ASSISTANCE_3',\n",
              " 'TIMES_ON_ASSISTANCE_4+',\n",
              " 'FAMILY_SIZE_1',\n",
              " 'FAMILY_SIZE_2',\n",
              " 'FAMILY_SIZE_3',\n",
              " 'FAMILY_SIZE_4',\n",
              " 'FAMILY_SIZE_4+',\n",
              " 'MONTHS_OFF_ASSISTANCE_1 to 6 months',\n",
              " 'MONTHS_OFF_ASSISTANCE_25 to 48 months',\n",
              " 'MONTHS_OFF_ASSISTANCE_49 to 120 months',\n",
              " 'MONTHS_OFF_ASSISTANCE_7 to 24 months',\n",
              " 'MONTHS_OFF_ASSISTANCE_over 120 months',\n",
              " 'GENDER_F',\n",
              " 'GENDER_M',\n",
              " 'GENDER_U',\n",
              " 'SHELTER_COSTS_$1000 to $1399',\n",
              " 'SHELTER_COSTS_$1400 to $1799',\n",
              " 'SHELTER_COSTS_$200 to $399',\n",
              " 'SHELTER_COSTS_$400 to $599',\n",
              " 'SHELTER_COSTS_$600 to $999',\n",
              " 'SHELTER_COSTS_No shelter costs',\n",
              " 'SHELTER_COSTS_Under $200',\n",
              " 'SHELTER_COSTS_over $1800']"
            ]
          },
          "metadata": {
            "tags": []
          },
          "execution_count": 69
        }
      ]
    },
    {
      "cell_type": "code",
      "metadata": {
        "id": "9z_DTL7WO37y",
        "colab_type": "code",
        "outputId": "9c1a4135-e223-4c4a-a9b9-68f82969747e",
        "colab": {
          "base_uri": "https://localhost:8080/",
          "height": 156
        }
      },
      "source": [
        "\n",
        "from sklearn import datasets\n",
        "from sklearn.feature_selection import RFE\n",
        "from sklearn.linear_model import LogisticRegression\n",
        "\n",
        "logreg = LogisticRegression(solver='liblinear')\n",
        "\n",
        "rfe = RFE(logreg, 20)\n",
        "rfe = rfe.fit(X2, y2.values.ravel())\n",
        "print(rfe.support_)\n",
        "print(rfe.ranking_)"
      ],
      "execution_count": 0,
      "outputs": [
        {
          "output_type": "stream",
          "text": [
            "[ True False False False  True False False False False False False False\n",
            " False False False False False  True False False False False  True  True\n",
            "  True  True  True False False  True False False  True False  True False\n",
            " False False False  True  True  True False  True False False  True False\n",
            "  True False False False  True  True  True]\n",
            "[ 1 27 34 32  1 14 12 35 21 28 25 11  6 31 30 29 26  1 19 17 18 33  1  1\n",
            "  1  1  1  5 15  1 16  2  1 36  1 20 13  7  4  1  1  1  3  1  9  8  1 24\n",
            "  1 23 22 10  1  1  1]\n"
          ],
          "name": "stdout"
        }
      ]
    },
    {
      "cell_type": "markdown",
      "metadata": {
        "colab_type": "text",
        "id": "-hoML9FJVLIr"
      },
      "source": [
        "The Recursive Feature Elimination (RFE) has helped us select the following features:\n",
        "\n",
        "'AGE_16 to 17 yrs old'\n",
        "\n",
        " 'AGE_65+ yrs old'   \n",
        " 'AGE_Less than 16 yrs old' \n",
        " 'FAMILY_SIZE_1'\n",
        "\n",
        " 'GENDER_U'\n",
        "\n",
        " 'IMMIGRATION_STATUS_Canadian Citizen'\n",
        "\n",
        " 'IMMIGRATION_STATUS_Minister Permit'\n",
        "\n",
        " 'IMMIGRATION_STATUS_No Status'\n",
        "\n",
        " 'IMMIGRATION_STATUS_Visitor/Tourist/TempResVisitor/Student Visa'\n",
        "\n",
        " 'MONTHS_OFF_ASSISTANCE_1 to 6 months'\n",
        "\n",
        " 'MONTHS_OFF_ASSISTANCE_25 to 48 months'\n",
        "\n",
        " 'MONTHS_OFF_ASSISTANCE_49 to 120 months'\n",
        "\n",
        " 'MONTHS_OFF_ASSISTANCE_over 120 months'\n",
        "\n",
        " 'OFFICE_Client Special Services Unit'\n",
        "\n",
        " 'SHELTER_COSTS_1400 to 1799'\n",
        "\n",
        " 'SHELTER_COSTS_No shelter costs'\n",
        "\n",
        " 'SHELTER_COSTS_over 1800'\n",
        "\n",
        " 'SHELTER_COSTS_Under 200'\n",
        "\n",
        " 'TIMES_ON_ASSISTANCE_3'\n",
        "\n",
        "\n",
        "\n",
        "\n",
        "\n"
      ]
    },
    {
      "cell_type": "code",
      "metadata": {
        "id": "fnUPzDSbWAWu",
        "colab_type": "code",
        "colab": {}
      },
      "source": [
        "#dropping 35 columns\n",
        "X2.drop(['AGE_18 to 29 yrs old', 'AGE_30 to 39 yrs old', 'AGE_40 to 49 yrs old', 'AGE_50 to 64 yrs old', 'FAMILY_SIZE_2', 'FAMILY_SIZE_3', 'FAMILY_SIZE_4', 'FAMILY_SIZE_4+', 'GENDER_F', 'GENDER_M', 'IMMIGRATION_STATUS_Permanent Resident', 'IMMIGRATION_STATUS_Refugee Claimant', 'MONTHS_OFF_ASSISTANCE_7 to 24 months', 'OFFICE_Attwell Employment & Social Services', 'OFFICE_Beaches Employment & Social Services', 'OFFICE_Chesswood Employment & Social Services', 'OFFICE_Consilium Employment & Social Services', 'OFFICE_Golden Mile Employment & Social Services', 'OFFICE_High Park Parkdale Employment & Social Services', 'OFFICE_Kennedy Employment & Social Services', 'OFFICE_Lawrence Square Employment & Social Services', 'OFFICE_Lesmill Employment & Social Services', 'OFFICE_Malvern Employment & Social Services', 'OFFICE_Metro Hall Employment & Social Services', 'OFFICE_The Queensway Employment & Social Services', 'OFFICE_Wellesley Place Employment & Social Services', 'OFFICE_Yonge Eglinton Employment & Social Services', 'OFFICE_York Humber Employment & Social Services', 'SHELTER_COSTS_$1000 to $1399', 'SHELTER_COSTS_$200 to $399', 'SHELTER_COSTS_$400 to $599', 'SHELTER_COSTS_$600 to $999', 'TIMES_ON_ASSISTANCE_1', 'TIMES_ON_ASSISTANCE_2', 'TIMES_ON_ASSISTANCE_4+'],axis=1,inplace=True)"
      ],
      "execution_count": 0,
      "outputs": []
    },
    {
      "cell_type": "code",
      "metadata": {
        "id": "UiJ-Ml-CXEBN",
        "colab_type": "code",
        "outputId": "52a92362-60ef-4317-c5a0-764f0a82d467",
        "colab": {
          "base_uri": "https://localhost:8080/",
          "height": 274
        }
      },
      "source": [
        "X2.head()"
      ],
      "execution_count": 0,
      "outputs": [
        {
          "output_type": "execute_result",
          "data": {
            "text/html": [
              "<div>\n",
              "<style scoped>\n",
              "    .dataframe tbody tr th:only-of-type {\n",
              "        vertical-align: middle;\n",
              "    }\n",
              "\n",
              "    .dataframe tbody tr th {\n",
              "        vertical-align: top;\n",
              "    }\n",
              "\n",
              "    .dataframe thead th {\n",
              "        text-align: right;\n",
              "    }\n",
              "</style>\n",
              "<table border=\"1\" class=\"dataframe\">\n",
              "  <thead>\n",
              "    <tr style=\"text-align: right;\">\n",
              "      <th></th>\n",
              "      <th>OFFICE_Application Centre</th>\n",
              "      <th>OFFICE_Client Special Services Unit</th>\n",
              "      <th>AGE_16 to 17 yrs old</th>\n",
              "      <th>AGE_65+ yrs old</th>\n",
              "      <th>AGE_Less than 16 yrs old</th>\n",
              "      <th>IMMIGRATION_STATUS_Canadian Citizen</th>\n",
              "      <th>IMMIGRATION_STATUS_Minister Permit</th>\n",
              "      <th>IMMIGRATION_STATUS_No Status</th>\n",
              "      <th>IMMIGRATION_STATUS_Visitor/Tourist/TempResVisitor/Student Visa</th>\n",
              "      <th>TIMES_ON_ASSISTANCE_3</th>\n",
              "      <th>FAMILY_SIZE_1</th>\n",
              "      <th>MONTHS_OFF_ASSISTANCE_1 to 6 months</th>\n",
              "      <th>MONTHS_OFF_ASSISTANCE_25 to 48 months</th>\n",
              "      <th>MONTHS_OFF_ASSISTANCE_49 to 120 months</th>\n",
              "      <th>MONTHS_OFF_ASSISTANCE_over 120 months</th>\n",
              "      <th>GENDER_U</th>\n",
              "      <th>SHELTER_COSTS_$1400 to $1799</th>\n",
              "      <th>SHELTER_COSTS_No shelter costs</th>\n",
              "      <th>SHELTER_COSTS_Under $200</th>\n",
              "      <th>SHELTER_COSTS_over $1800</th>\n",
              "    </tr>\n",
              "  </thead>\n",
              "  <tbody>\n",
              "    <tr>\n",
              "      <th>0</th>\n",
              "      <td>1</td>\n",
              "      <td>0</td>\n",
              "      <td>1</td>\n",
              "      <td>0</td>\n",
              "      <td>0</td>\n",
              "      <td>1</td>\n",
              "      <td>0</td>\n",
              "      <td>0</td>\n",
              "      <td>0</td>\n",
              "      <td>0</td>\n",
              "      <td>1</td>\n",
              "      <td>1</td>\n",
              "      <td>0</td>\n",
              "      <td>0</td>\n",
              "      <td>0</td>\n",
              "      <td>0</td>\n",
              "      <td>0</td>\n",
              "      <td>0</td>\n",
              "      <td>0</td>\n",
              "      <td>0</td>\n",
              "    </tr>\n",
              "    <tr>\n",
              "      <th>1</th>\n",
              "      <td>1</td>\n",
              "      <td>0</td>\n",
              "      <td>1</td>\n",
              "      <td>0</td>\n",
              "      <td>0</td>\n",
              "      <td>1</td>\n",
              "      <td>0</td>\n",
              "      <td>0</td>\n",
              "      <td>0</td>\n",
              "      <td>0</td>\n",
              "      <td>1</td>\n",
              "      <td>1</td>\n",
              "      <td>0</td>\n",
              "      <td>0</td>\n",
              "      <td>0</td>\n",
              "      <td>0</td>\n",
              "      <td>0</td>\n",
              "      <td>0</td>\n",
              "      <td>0</td>\n",
              "      <td>0</td>\n",
              "    </tr>\n",
              "    <tr>\n",
              "      <th>2</th>\n",
              "      <td>1</td>\n",
              "      <td>0</td>\n",
              "      <td>1</td>\n",
              "      <td>0</td>\n",
              "      <td>0</td>\n",
              "      <td>1</td>\n",
              "      <td>0</td>\n",
              "      <td>0</td>\n",
              "      <td>0</td>\n",
              "      <td>0</td>\n",
              "      <td>1</td>\n",
              "      <td>1</td>\n",
              "      <td>0</td>\n",
              "      <td>0</td>\n",
              "      <td>0</td>\n",
              "      <td>0</td>\n",
              "      <td>0</td>\n",
              "      <td>0</td>\n",
              "      <td>0</td>\n",
              "      <td>0</td>\n",
              "    </tr>\n",
              "    <tr>\n",
              "      <th>3</th>\n",
              "      <td>1</td>\n",
              "      <td>0</td>\n",
              "      <td>1</td>\n",
              "      <td>0</td>\n",
              "      <td>0</td>\n",
              "      <td>1</td>\n",
              "      <td>0</td>\n",
              "      <td>0</td>\n",
              "      <td>0</td>\n",
              "      <td>0</td>\n",
              "      <td>1</td>\n",
              "      <td>1</td>\n",
              "      <td>0</td>\n",
              "      <td>0</td>\n",
              "      <td>0</td>\n",
              "      <td>0</td>\n",
              "      <td>0</td>\n",
              "      <td>1</td>\n",
              "      <td>0</td>\n",
              "      <td>0</td>\n",
              "    </tr>\n",
              "    <tr>\n",
              "      <th>4</th>\n",
              "      <td>1</td>\n",
              "      <td>0</td>\n",
              "      <td>1</td>\n",
              "      <td>0</td>\n",
              "      <td>0</td>\n",
              "      <td>1</td>\n",
              "      <td>0</td>\n",
              "      <td>0</td>\n",
              "      <td>0</td>\n",
              "      <td>0</td>\n",
              "      <td>1</td>\n",
              "      <td>1</td>\n",
              "      <td>0</td>\n",
              "      <td>0</td>\n",
              "      <td>0</td>\n",
              "      <td>0</td>\n",
              "      <td>0</td>\n",
              "      <td>0</td>\n",
              "      <td>0</td>\n",
              "      <td>0</td>\n",
              "    </tr>\n",
              "  </tbody>\n",
              "</table>\n",
              "</div>"
            ],
            "text/plain": [
              "   OFFICE_Application Centre  ...  SHELTER_COSTS_over $1800\n",
              "0                          1  ...                         0\n",
              "1                          1  ...                         0\n",
              "2                          1  ...                         0\n",
              "3                          1  ...                         0\n",
              "4                          1  ...                         0\n",
              "\n",
              "[5 rows x 20 columns]"
            ]
          },
          "metadata": {
            "tags": []
          },
          "execution_count": 72
        }
      ]
    },
    {
      "cell_type": "markdown",
      "metadata": {
        "id": "jDMnlaTkXcoQ",
        "colab_type": "text"
      },
      "source": [
        "## Implementing the **model**"
      ]
    },
    {
      "cell_type": "code",
      "metadata": {
        "id": "APNgqcTULOWx",
        "colab_type": "code",
        "outputId": "0a7e7038-7700-4a84-f544-4a573b641327",
        "colab": {
          "base_uri": "https://localhost:8080/",
          "height": 745
        }
      },
      "source": [
        "import statsmodels.api as sm\n",
        "logit_model=sm.Logit(y2,X2)\n",
        "result=logit_model.fit()\n",
        "print(result.summary2())\n",
        "\n"
      ],
      "execution_count": 0,
      "outputs": [
        {
          "output_type": "stream",
          "text": [
            "Warning: Maximum number of iterations has been exceeded.\n",
            "         Current function value: 0.460194\n",
            "         Iterations: 35\n"
          ],
          "name": "stdout"
        },
        {
          "output_type": "stream",
          "text": [
            "/usr/local/lib/python3.6/dist-packages/statsmodels/base/model.py:512: ConvergenceWarning:\n",
            "\n",
            "Maximum Likelihood optimization failed to converge. Check mle_retvals\n",
            "\n"
          ],
          "name": "stderr"
        },
        {
          "output_type": "stream",
          "text": [
            "                                                 Results: Logit\n",
            "=================================================================================================================\n",
            "Model:                              Logit                            Pseudo R-squared:                 0.307     \n",
            "Dependent Variable:                 EXIT_BINARY                      AIC:                              86774.6398\n",
            "Date:                               2019-07-29 05:15                 BIC:                              86963.7112\n",
            "No. Observations:                   94237                            Log-Likelihood:                   -43367.   \n",
            "Df Model:                           19                               LL-Null:                          -62597.   \n",
            "Df Residuals:                       94217                            LLR p-value:                      0.0000    \n",
            "Converged:                          0.0000                           Scale:                            1.0000    \n",
            "No. Iterations:                     35.0000                                                                      \n",
            "-----------------------------------------------------------------------------------------------------------------\n",
            "                                                                Coef.  Std.Err.    z     P>|z|   [0.025   0.975] \n",
            "-----------------------------------------------------------------------------------------------------------------\n",
            "OFFICE_Application Centre                                      -2.9475   0.0543 -54.3048 0.0000  -3.0539  -2.8411\n",
            "OFFICE_Client Special Services Unit                            -0.5927   0.1488  -3.9835 0.0001  -0.8844  -0.3011\n",
            "AGE_16 to 17 yrs old                                           -1.7383   0.0506 -34.3357 0.0000  -1.8375  -1.6390\n",
            "AGE_65+ yrs old                                                 0.6992   0.0359  19.4700 0.0000   0.6288   0.7695\n",
            "AGE_Less than 16 yrs old                                       -0.8595   0.0973  -8.8342 0.0000  -1.0502  -0.6688\n",
            "IMMIGRATION_STATUS_Canadian Citizen                            -0.0414   0.0155  -2.6716 0.0075  -0.0717  -0.0110\n",
            "IMMIGRATION_STATUS_Minister Permit                             -2.1161   0.1273 -16.6171 0.0000  -2.3657  -1.8665\n",
            "IMMIGRATION_STATUS_No Status                                   -2.4072   0.2103 -11.4461 0.0000  -2.8194  -1.9950\n",
            "IMMIGRATION_STATUS_Visitor/Tourist/TempResVisitor/Student Visa -1.8200   0.0625 -29.1299 0.0000  -1.9425  -1.6976\n",
            "TIMES_ON_ASSISTANCE_3                                          -0.8783   0.0236 -37.2715 0.0000  -0.9245  -0.8321\n",
            "FAMILY_SIZE_1                                                   0.5160   0.0178  29.0200 0.0000   0.4811   0.5508\n",
            "MONTHS_OFF_ASSISTANCE_1 to 6 months                             1.6083   0.0164  98.2557 0.0000   1.5762   1.6403\n",
            "MONTHS_OFF_ASSISTANCE_25 to 48 months                          -2.0159   0.0312 -64.5749 0.0000  -2.0771  -1.9547\n",
            "MONTHS_OFF_ASSISTANCE_49 to 120 months                         -2.0890   0.0332 -62.8563 0.0000  -2.1541  -2.0238\n",
            "MONTHS_OFF_ASSISTANCE_over 120 months                          -2.9455   0.0841 -35.0179 0.0000  -3.1103  -2.7806\n",
            "GENDER_U                                                        6.1425  48.2209   0.1274 0.8986 -88.3689 100.6538\n",
            "SHELTER_COSTS_$1400 to $1799                                   -1.3039   0.0377 -34.6149 0.0000  -1.3777  -1.2300\n",
            "SHELTER_COSTS_No shelter costs                                 -1.1529   0.0230 -50.0589 0.0000  -1.1980  -1.1078\n",
            "SHELTER_COSTS_Under $200                                       -1.3034   0.0292 -44.5886 0.0000  -1.3607  -1.2461\n",
            "SHELTER_COSTS_over $1800                                       -1.5373   0.0480 -32.0425 0.0000  -1.6313  -1.4433\n",
            "=================================================================================================================\n",
            "\n"
          ],
          "name": "stdout"
        }
      ]
    },
    {
      "cell_type": "markdown",
      "metadata": {
        "id": "1URvihA3Xpig",
        "colab_type": "text"
      },
      "source": [
        "## Logistic Regression Model **Fitting**"
      ]
    },
    {
      "cell_type": "code",
      "metadata": {
        "id": "YhJ224gxXnmv",
        "colab_type": "code",
        "outputId": "cd823d2f-c14a-4f2e-c908-01141ab6af45",
        "colab": {
          "base_uri": "https://localhost:8080/",
          "height": 104
        }
      },
      "source": [
        "from sklearn.linear_model import LogisticRegression\n",
        "from sklearn.model_selection import train_test_split\n",
        "from sklearn import metrics\n",
        "\n",
        "X_train, X_test, y_train, y_test_lr = train_test_split(X2, y2, test_size=0.3, random_state=0)\n",
        "logreg = LogisticRegression(solver='liblinear')\n",
        "logreg.fit(X_train, y_train.values.ravel())"
      ],
      "execution_count": 0,
      "outputs": [
        {
          "output_type": "execute_result",
          "data": {
            "text/plain": [
              "LogisticRegression(C=1.0, class_weight=None, dual=False, fit_intercept=True,\n",
              "                   intercept_scaling=1, l1_ratio=None, max_iter=100,\n",
              "                   multi_class='warn', n_jobs=None, penalty='l2',\n",
              "                   random_state=None, solver='liblinear', tol=0.0001, verbose=0,\n",
              "                   warm_start=False)"
            ]
          },
          "metadata": {
            "tags": []
          },
          "execution_count": 74
        }
      ]
    },
    {
      "cell_type": "code",
      "metadata": {
        "id": "tUW10K8jYa5b",
        "colab_type": "code",
        "outputId": "db4fffd0-7264-4e26-b923-da13646c4cb7",
        "colab": {
          "base_uri": "https://localhost:8080/",
          "height": 35
        }
      },
      "source": [
        "y_pred = logreg.predict(X_test)\n",
        "print('Accuracy of logistic regression classifier on test set: {:.2f}'.format(logreg.score(X_test, y_test_lr)))"
      ],
      "execution_count": 0,
      "outputs": [
        {
          "output_type": "stream",
          "text": [
            "Accuracy of logistic regression classifier on test set: 0.83\n"
          ],
          "name": "stdout"
        }
      ]
    },
    {
      "cell_type": "code",
      "metadata": {
        "id": "YHWpx42Mb9qQ",
        "colab_type": "code",
        "outputId": "9faa6d91-922e-477c-d720-529f15e4a0e6",
        "colab": {
          "base_uri": "https://localhost:8080/",
          "height": 35
        }
      },
      "source": [
        "# 10-fold cross-validation with logistic regression\n",
        "print(cross_val_score(logreg, X2, y2.values.ravel(), cv=10, scoring='accuracy').mean())"
      ],
      "execution_count": 0,
      "outputs": [
        {
          "output_type": "stream",
          "text": [
            "0.8207388820061883\n"
          ],
          "name": "stdout"
        }
      ]
    },
    {
      "cell_type": "markdown",
      "metadata": {
        "id": "nzqN6OTzYgSh",
        "colab_type": "text"
      },
      "source": [
        "### Confusion **Matrix**"
      ]
    },
    {
      "cell_type": "code",
      "metadata": {
        "id": "9N00HwUlYe3D",
        "colab_type": "code",
        "outputId": "ec6eeb3f-595a-4304-fdc5-13fe17ec2bdf",
        "colab": {
          "base_uri": "https://localhost:8080/",
          "height": 52
        }
      },
      "source": [
        "from sklearn.metrics import confusion_matrix\n",
        "confusion_matrix = confusion_matrix(y_test_lr, y_pred)\n",
        "print(confusion_matrix)"
      ],
      "execution_count": 0,
      "outputs": [
        {
          "output_type": "stream",
          "text": [
            "[[14682  2685]\n",
            " [ 2245  8660]]\n"
          ],
          "name": "stdout"
        }
      ]
    },
    {
      "cell_type": "code",
      "metadata": {
        "id": "IwPDxNk7YpMT",
        "colab_type": "code",
        "outputId": "00598045-69cc-4c50-af4e-aa6a2e3acd60",
        "colab": {
          "base_uri": "https://localhost:8080/",
          "height": 173
        }
      },
      "source": [
        "#printing classification report of logistic regression providing precision,recall,f1-score\n",
        "from sklearn.metrics import classification_report\n",
        "print(classification_report(y_test_lr, y_pred))"
      ],
      "execution_count": 0,
      "outputs": [
        {
          "output_type": "stream",
          "text": [
            "              precision    recall  f1-score   support\n",
            "\n",
            "           0       0.87      0.85      0.86     17367\n",
            "           1       0.76      0.79      0.78     10905\n",
            "\n",
            "    accuracy                           0.83     28272\n",
            "   macro avg       0.82      0.82      0.82     28272\n",
            "weighted avg       0.83      0.83      0.83     28272\n",
            "\n"
          ],
          "name": "stdout"
        }
      ]
    },
    {
      "cell_type": "code",
      "metadata": {
        "id": "8-BN-mHAKIvu",
        "colab_type": "code",
        "outputId": "1c782f41-78a2-40d7-b747-4a730692c21c",
        "colab": {
          "base_uri": "https://localhost:8080/",
          "height": 87
        }
      },
      "source": [
        "#Import scikit-learn metrics module for accuracy calculation\n",
        "from sklearn import metrics\n",
        "# Model Accuracy: \n",
        "print(\"Accuracy\",round(metrics.accuracy_score(y_test_lr, y_pred),4))\n",
        "\n",
        "# Model Precision: \n",
        "print(\"Precision:\",round(metrics.precision_score(y_test_lr, y_pred),3))\n",
        "\n",
        "# Model Recall: \n",
        "print(\"Recall\",round(metrics.recall_score(y_test_lr, y_pred),3))\n",
        "print(\"F1-Score\",round(metrics.f1_score(y_test_lr, y_pred),3))"
      ],
      "execution_count": 0,
      "outputs": [
        {
          "output_type": "stream",
          "text": [
            "Accuracy 0.8256\n",
            "Precision: 0.763\n",
            "Recall 0.794\n",
            "F1-Score 0.778\n"
          ],
          "name": "stdout"
        }
      ]
    },
    {
      "cell_type": "code",
      "metadata": {
        "id": "OgXSZ_1yYw9l",
        "colab_type": "code",
        "outputId": "98862e00-46d4-40c1-d549-427599aaedb4",
        "colab": {
          "base_uri": "https://localhost:8080/",
          "height": 301
        }
      },
      "source": [
        "from sklearn.metrics import roc_auc_score\n",
        "from sklearn.metrics import roc_curve\n",
        "logit_roc_auc = roc_auc_score(y_test_lr, logreg.predict(X_test))\n",
        "fpr, tpr, thresholds = roc_curve(y_test_lr, logreg.predict_proba(X_test)[:,1])\n",
        "plt.figure()\n",
        "plt.plot(fpr, tpr, label='Logistic Regression (area = %0.2f)' % logit_roc_auc)\n",
        "plt.plot([0, 1], [0, 1],'r--')\n",
        "plt.xlim([0.0, 1.0])\n",
        "plt.ylim([0.0, 1.05])\n",
        "plt.xlabel('False Positive Rate')\n",
        "plt.ylabel('True Positive Rate')\n",
        "plt.title('Receiver operating characteristic')\n",
        "plt.legend(loc=\"lower right\")\n",
        "plt.savefig('Log_ROC')\n",
        "plt.show()"
      ],
      "execution_count": 0,
      "outputs": [
        {
          "output_type": "display_data",
          "data": {
            "image/png": "[encoded data removed]",
            "text/plain": [
              "<Figure size 432x288 with 1 Axes>"
            ]
          },
          "metadata": {
            "tags": []
          }
        }
      ]
    },
    {
      "cell_type": "markdown",
      "metadata": {
        "id": "mFmEkeWUaw5Q",
        "colab_type": "text"
      },
      "source": [
        "## Comparing decision tree and logistic regression "
      ]
    },
    {
      "cell_type": "code",
      "metadata": {
        "id": "8Cv2-xsKav8W",
        "colab_type": "code",
        "colab": {}
      },
      "source": [
        "DT_acc = accuracy_score(y_test,predictions)\n",
        "DT_prec = precision_score(y_test,predictions)\n",
        "DT_rec = recall_score(y_test,predictions)\n",
        "DT_f1 = f1_score(y_test,predictions)\n",
        "\n",
        "y_ax_dt = np.array([DT_acc,DT_prec,DT_rec,DT_f1])\n",
        "x_ax_dt = ['Accuracy','Precision','Recall','F1']\n",
        "clf_dt = ['Decision Tree','Decision Tree','Decision Tree','Decision Tree']\n",
        "\n",
        "\n",
        "d_dt = {'Metrics':x_ax_dt,'Scores':y_ax_dt, 'Classifier':clf_dt }\n",
        "df_dt = pd.DataFrame(d_dt, columns=['Metrics', 'Scores', 'Classifier'])"
      ],
      "execution_count": 0,
      "outputs": []
    },
    {
      "cell_type": "code",
      "metadata": {
        "id": "tOzt7N95bCWP",
        "colab_type": "code",
        "colab": {}
      },
      "source": [
        "LR_acc = accuracy_score(y_test_lr,y_pred)\n",
        "LR_prec = precision_score(y_test_lr,y_pred)\n",
        "LR_rec = recall_score(y_test_lr,y_pred)\n",
        "LR_f1 = f1_score(y_test_lr,y_pred)\n",
        "\n",
        "y_ax_lr = np.array([LR_acc,LR_prec,LR_rec,LR_f1])\n",
        "x_ax_lr = ['Accuracy','Precision','Recall','F1']\n",
        "clf_lr = ['Logistic Regression','Logistic Regression','Logistic Regression','Logistic Regression']\n",
        "\n",
        "\n",
        "\n",
        "d_lr = {'Metrics':x_ax_lr,'Scores':y_ax_lr, 'Classifier':clf_lr}\n",
        "\n",
        "\n",
        "df_lr = pd.DataFrame(d_lr, columns=['Metrics', 'Scores', 'Classifier'])\n",
        "df_all = df_dt.append(df_lr, ignore_index=True)"
      ],
      "execution_count": 0,
      "outputs": []
    },
    {
      "cell_type": "code",
      "metadata": {
        "id": "UbjhxJV1c1aC",
        "colab_type": "code",
        "outputId": "2cfc2a66-d169-460f-b11d-7bec7784abc4",
        "colab": {
          "base_uri": "https://localhost:8080/",
          "height": 294
        }
      },
      "source": [
        "df_all.head(20)\n"
      ],
      "execution_count": 0,
      "outputs": [
        {
          "output_type": "execute_result",
          "data": {
            "text/html": [
              "<div>\n",
              "<style scoped>\n",
              "    .dataframe tbody tr th:only-of-type {\n",
              "        vertical-align: middle;\n",
              "    }\n",
              "\n",
              "    .dataframe tbody tr th {\n",
              "        vertical-align: top;\n",
              "    }\n",
              "\n",
              "    .dataframe thead th {\n",
              "        text-align: right;\n",
              "    }\n",
              "</style>\n",
              "<table border=\"1\" class=\"dataframe\">\n",
              "  <thead>\n",
              "    <tr style=\"text-align: right;\">\n",
              "      <th></th>\n",
              "      <th>Metrics</th>\n",
              "      <th>Scores</th>\n",
              "      <th>Classifier</th>\n",
              "    </tr>\n",
              "  </thead>\n",
              "  <tbody>\n",
              "    <tr>\n",
              "      <th>0</th>\n",
              "      <td>Accuracy</td>\n",
              "      <td>0.844121</td>\n",
              "      <td>Decision Tree</td>\n",
              "    </tr>\n",
              "    <tr>\n",
              "      <th>1</th>\n",
              "      <td>Precision</td>\n",
              "      <td>0.779192</td>\n",
              "      <td>Decision Tree</td>\n",
              "    </tr>\n",
              "    <tr>\n",
              "      <th>2</th>\n",
              "      <td>Recall</td>\n",
              "      <td>0.822123</td>\n",
              "      <td>Decision Tree</td>\n",
              "    </tr>\n",
              "    <tr>\n",
              "      <th>3</th>\n",
              "      <td>F1</td>\n",
              "      <td>0.800082</td>\n",
              "      <td>Decision Tree</td>\n",
              "    </tr>\n",
              "    <tr>\n",
              "      <th>4</th>\n",
              "      <td>Accuracy</td>\n",
              "      <td>0.825623</td>\n",
              "      <td>Logistic Regression</td>\n",
              "    </tr>\n",
              "    <tr>\n",
              "      <th>5</th>\n",
              "      <td>Precision</td>\n",
              "      <td>0.763332</td>\n",
              "      <td>Logistic Regression</td>\n",
              "    </tr>\n",
              "    <tr>\n",
              "      <th>6</th>\n",
              "      <td>Recall</td>\n",
              "      <td>0.794131</td>\n",
              "      <td>Logistic Regression</td>\n",
              "    </tr>\n",
              "    <tr>\n",
              "      <th>7</th>\n",
              "      <td>F1</td>\n",
              "      <td>0.778427</td>\n",
              "      <td>Logistic Regression</td>\n",
              "    </tr>\n",
              "  </tbody>\n",
              "</table>\n",
              "</div>"
            ],
            "text/plain": [
              "     Metrics    Scores           Classifier\n",
              "0   Accuracy  0.844121        Decision Tree\n",
              "1  Precision  0.779192        Decision Tree\n",
              "2     Recall  0.822123        Decision Tree\n",
              "3         F1  0.800082        Decision Tree\n",
              "4   Accuracy  0.825623  Logistic Regression\n",
              "5  Precision  0.763332  Logistic Regression\n",
              "6     Recall  0.794131  Logistic Regression\n",
              "7         F1  0.778427  Logistic Regression"
            ]
          },
          "metadata": {
            "tags": []
          },
          "execution_count": 86
        }
      ]
    },
    {
      "cell_type": "code",
      "metadata": {
        "id": "w13VE-8Rc7UA",
        "colab_type": "code",
        "outputId": "fec74795-ff89-4d42-8398-8736c36d546d",
        "colab": {
          "base_uri": "https://localhost:8080/",
          "height": 291
        }
      },
      "source": [
        "\n",
        "ax=sns.barplot(x='Metrics', y='Scores', hue='Classifier', data=df_all)\n",
        "\n",
        "\n",
        "ax.legend(bbox_to_anchor=(1.5, 0.5))\n",
        "\n",
        "plt.show()"
      ],
      "execution_count": 0,
      "outputs": [
        {
          "output_type": "display_data",
          "data": {
            "image/png": "[encoded data removed]",
            "text/plain": [
              "<Figure size 432x288 with 1 Axes>"
            ]
          },
          "metadata": {
            "tags": []
          }
        }
      ]
    }
  ]
}