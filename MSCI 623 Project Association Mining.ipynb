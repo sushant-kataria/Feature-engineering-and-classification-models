{
  "nbformat": 4,
  "nbformat_minor": 0,
  "metadata": {
    "colab": {
      "name": "Association_Rule_Mining.ipynb",
      "version": "0.3.2",
      "provenance": [],
      "collapsed_sections": []
    },
    "kernelspec": {
      "name": "python3",
      "display_name": "Python 3"
    }
  },
  "cells": [
    {
      "cell_type": "code",
      "metadata": {
        "id": "FZcPBbHODT61",
        "colab_type": "code",
        "colab": {}
      },
      "source": [
        "!pip install category_encoders \n",
        "!pip install mlxtend\n",
        "\n",
        "import pandas as pd\n",
        "import numpy as np\n",
        "import matplotlib.pyplot as plt\n",
        "import seaborn as sns\n",
        "import category_encoders as ce\n",
        "from google.colab import files\n",
        "\n",
        "import pandas as pd\n",
        "from mlxtend.preprocessing import TransactionEncoder\n",
        "from mlxtend.frequent_patterns import apriori\n",
        "from mlxtend.frequent_patterns import association_rules\n",
        "\n",
        "from google.colab import drive\n",
        "drive.mount('/content/drive')\n",
        "\n",
        "\n",
        "root_path = 'content/drive/My Drive/Colab Notebooks'\n",
        "\n",
        "!pip install -U -q PyDrive\n",
        "from pydrive.auth import GoogleAuth\n",
        "from pydrive.drive import GoogleDrive\n",
        "from google.colab import auth\n",
        "from oauth2client.client import GoogleCredentials\n",
        "\n",
        "auth.authenticate_user()\n",
        "gauth = GoogleAuth()\n",
        "gauth.credentials = GoogleCredentials.get_application_default()\n",
        "drive = GoogleDrive(gauth)\n",
        "\n",
        "link=\"https://drive.google.com/open?id=1yWILJbdjbRwoRvlQ9e91QrMdqLGsuBmb\"\n",
        "\n",
        "fluff, id = link.split('=')\n",
        "print (id)\n",
        "\n",
        "downloaded = drive.CreateFile({'id':id}) \n",
        "downloaded.GetContentFile('opendata_tess_ow.csv')  \n",
        "df3 = pd.read_csv('opendata_tess_ow.csv')\n",
        "\n",
        "#data has been loaded to data frame df3 and copy is made to h\n",
        "\n",
        "h = df3.copy()\n",
        "#data cleanup\n",
        "h['FAMILY_SIZE'] = np.where(h['FAMILY_SIZE'] =='4+',h['FAMILY_SIZE'],\n",
        "                            np.where(h['FAMILY_SIZE'] =='4',h['FAMILY_SIZE'],\n",
        "                                     np.where(h['FAMILY_SIZE'] =='3',h['FAMILY_SIZE'],\n",
        "                                              np.where(h['FAMILY_SIZE'] =='2',h['FAMILY_SIZE'],'1'))))\n",
        "#rename columns\n",
        "h.rename(columns = {'OFF':'OFFICE','CASES                                    ':'CASES'}, inplace = True)\n",
        "#drop columns not required for analysis\n",
        "h.drop([\"YEAR_NUM\",\"MNTH\",\"PROGRAM_NM\",\"EARNINGS\",\"WARD_SCODE\",\"CENSUS_NEIGH_SCODE\",\"EDUCATION_LEVEL\",\"FAMILY_TYP_NM\",\"YOUNGEST_DEP_AGE_RANGE\",\"MONTHS_ON_ASSISTANCE\",],axis =1 , inplace =True)\n",
        "#Features selected from principal component analysis are retained and others are dropped.aggregate the total cases, exits and new cases at the below level\n",
        "h_agg=h.groupby([ 'OFFICE',  'FAMILY_SIZE', 'AGE', 'IMMIGRATION_STATUS', 'TIMES_ON_ASSISTANCE', 'MONTHS_OFF_ASSISTANCE','SHELTER_COSTS','GENDER'], as_index= False).sum()\n",
        "\n",
        "#Features are decided. Calculate the outcome variable EXIT_BINARY based on the sum of EXITS for the population\n",
        "h_agg['EXIT_BINARY'] = np.where(h_agg['EXITS']==0,0 ,1)\n",
        "h_agg.drop([\"NEW_CASES\",\"EXITS\",\"CASES\",],axis =1 , inplace =True)\n",
        "\n",
        "\n",
        "\n",
        "\n",
        "\n"
      ],
      "execution_count": 0,
      "outputs": []
    },
    {
      "cell_type": "markdown",
      "metadata": {
        "id": "bugi_IKDIvkr",
        "colab_type": "text"
      },
      "source": [
        "Features are decided.Outcome variable(EXIT_BINARY) is calculated.Other unwanted columns are dropped.\n",
        "Checked for imbalance in class variable. It is  balanced."
      ]
    },
    {
      "cell_type": "code",
      "metadata": {
        "id": "A_S3lh-xIssb",
        "colab_type": "code",
        "colab": {
          "base_uri": "https://localhost:8080/",
          "height": 285
        },
        "outputId": "b6eaeed6-39a9-44c6-e51a-f47489cef847"
      },
      "source": [
        "sns.countplot(x='EXIT_BINARY',data=h_agg, palette='hls')\n",
        "plt.show()\n"
      ],
      "execution_count": 11,
      "outputs": [
        {
          "output_type": "display_data",
          "data": {
            "image/png": "[encoded data removed]",
            "text/plain": [
              "<Figure size 432x288 with 1 Axes>"
            ]
          },
          "metadata": {
            "tags": []
          }
        }
      ]
    },
    {
      "cell_type": "markdown",
      "metadata": {
        "id": "juaYiCGLJTGm",
        "colab_type": "text"
      },
      "source": [
        "There are two classes :\n",
        "\n",
        "Outcome : EXIT_BINARY = 1 or Y. Population has EXITS > 0. \n",
        "\n",
        "Outcome : EXIT_BINARY = 0 or N. Population has EXITS = 0. Never exited Ontario Works.\n",
        "\n",
        "Create two different dataframe for the different values of class variable"
      ]
    },
    {
      "cell_type": "code",
      "metadata": {
        "id": "YZxeue7ZJx8x",
        "colab_type": "code",
        "colab": {}
      },
      "source": [
        "Out_N = h_agg[h_agg['EXIT_BINARY']==0]\n",
        "Out_Y = h_agg[h_agg['EXIT_BINARY']!=0]\n",
        "\n"
      ],
      "execution_count": 0,
      "outputs": []
    },
    {
      "cell_type": "markdown",
      "metadata": {
        "id": "_ESLqcuZKBO0",
        "colab_type": "text"
      },
      "source": [
        "The features are all categorical variables.So, one hot encoding is done for both dataframes: Outcome = Y (Out_Y)\n",
        "Outcome = N (Out_N)"
      ]
    },
    {
      "cell_type": "code",
      "metadata": {
        "id": "TCiT6_bMKedW",
        "colab_type": "code",
        "colab": {}
      },
      "source": [
        "#For Outcome = Y or EXIT_BINARY = 1 \n",
        "\n",
        "ohe = ce.OneHotEncoder(handle_unknown='ignore', use_cat_names=True)\n",
        "Out_Y_ohe = ohe.fit_transform(Out_Y)\n",
        "Out_Y_ohe.drop([\"EXIT_BINARY\",],axis =1 , inplace =True)\n",
        "\n",
        "#For Outcome = N or EXIT_BINARY = 0 \n",
        "\n",
        "ohe = ce.OneHotEncoder(handle_unknown='ignore', use_cat_names=True)\n",
        "Out_N_ohe = ohe.fit_transform(Out_N)\n",
        "#Out_N_ohe.drop([\"EXIT_BINARY\",],axis =1 , inplace =True)\n"
      ],
      "execution_count": 0,
      "outputs": []
    },
    {
      "cell_type": "markdown",
      "metadata": {
        "id": "yn8isixhKz4A",
        "colab_type": "text"
      },
      "source": [
        "For Outcome = N, EXIT_BINARY=0, Population has never exited OW  program\n",
        "\n",
        "Running Apriori association mining with 3 different support and confidence values."
      ]
    },
    {
      "cell_type": "code",
      "metadata": {
        "id": "cCHEfJprLj-p",
        "colab_type": "code",
        "colab": {}
      },
      "source": [
        "\n",
        "#Apriori for EXIT BINARY = 0\n",
        "#Since data is filtered only for EXIT_BINARY = 0 => Support(EXIT_BINARY is 0, No exits) = 1 always.\n",
        "# Confidence Confidence (EXIT_BINARY is 0 -> Any feature of population) = Support (feature of population, EXIT_BINARY=0)/1 = Support (feature of population)\n",
        "\n",
        "# Support and Confidence have the same values\n",
        "# Cannot run multiple iterations with different support in this case\n",
        "\n",
        "#Support = 0.25 ; Confidence = 0.25\n",
        "\n",
        "frequent_itemsets_0_1 = apriori(Out_N_ohe, min_support=0.25, use_colnames=True)\n",
        "print(frequent_itemsets_0_1)\n",
        "\n"
      ],
      "execution_count": 0,
      "outputs": []
    }
  ]
}